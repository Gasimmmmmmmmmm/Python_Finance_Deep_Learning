{
  "nbformat": 4,
  "nbformat_minor": 0,
  "metadata": {
    "colab": {
      "provenance": [],
      "gpuType": "T4"
    },
    "kernelspec": {
      "name": "python3",
      "display_name": "Python 3"
    },
    "language_info": {
      "name": "python"
    },
    "accelerator": "GPU"
  },
  "cells": [
    {
      "cell_type": "code",
      "execution_count": 124,
      "metadata": {
        "colab": {
          "base_uri": "https://localhost:8080/"
        },
        "id": "-y8HJ6VDk647",
        "outputId": "4ee34db0-ef2a-4623-e535-f465ff8d56c4"
      },
      "outputs": [
        {
          "output_type": "stream",
          "name": "stdout",
          "text": [
            "           Date        Open        High         Low       Close   Adj Close  \\\n",
            "3439 2024-06-13  186.089996  187.669998  182.669998  183.830002  183.830002   \n",
            "3440 2024-06-14  183.080002  183.720001  182.229996  183.660004  183.660004   \n",
            "3441 2024-06-17  182.520004  185.000000  181.220001  184.059998  184.059998   \n",
            "3442 2024-06-18  183.740005  184.289993  181.429993  182.809998  182.809998   \n",
            "3443 2024-06-20  182.910004  186.509995  182.720001  186.100006  186.100006   \n",
            "\n",
            "        Volume  \n",
            "3439  39721500  \n",
            "3440  25456400  \n",
            "3441  35601900  \n",
            "3442  36659200  \n",
            "3443  43977300  \n"
          ]
        }
      ],
      "source": [
        "import pandas as pd\n",
        "import numpy as np\n",
        "import yfinance as yf\n",
        "import datetime\n",
        "from datetime import date, timedelta\n",
        "import os\n",
        "\n",
        "today = date.today()\n",
        "\n",
        "d1 = today.strftime(\"%Y-%m-%d\")\n",
        "end_date = d1\n",
        "d2 = date.today() - timedelta(days=5000)\n",
        "d2 = d2.strftime(\"%Y-%m-%d\")\n",
        "start_date = d2\n",
        "\n",
        "df = yf.download('AMZN',\n",
        "                      start=start_date,\n",
        "                      end=end_date,\n",
        "                      progress=False)\n",
        "df[\"Date\"] = df.index\n",
        "df = df[[\"Date\", \"Open\", \"High\", \"Low\", \"Close\", \"Adj Close\", \"Volume\"]]\n",
        "df.reset_index(drop=True, inplace=True)\n",
        "print(df.tail())"
      ]
    },
    {
      "cell_type": "code",
      "source": [
        "df.info()"
      ],
      "metadata": {
        "colab": {
          "base_uri": "https://localhost:8080/"
        },
        "id": "Efv7P0Q8xlLL",
        "outputId": "d3d25feb-cdc5-491a-90be-0983c19ee977"
      },
      "execution_count": 125,
      "outputs": [
        {
          "output_type": "stream",
          "name": "stdout",
          "text": [
            "<class 'pandas.core.frame.DataFrame'>\n",
            "RangeIndex: 3444 entries, 0 to 3443\n",
            "Data columns (total 7 columns):\n",
            " #   Column     Non-Null Count  Dtype         \n",
            "---  ------     --------------  -----         \n",
            " 0   Date       3444 non-null   datetime64[ns]\n",
            " 1   Open       3444 non-null   float64       \n",
            " 2   High       3444 non-null   float64       \n",
            " 3   Low        3444 non-null   float64       \n",
            " 4   Close      3444 non-null   float64       \n",
            " 5   Adj Close  3444 non-null   float64       \n",
            " 6   Volume     3444 non-null   int64         \n",
            "dtypes: datetime64[ns](1), float64(5), int64(1)\n",
            "memory usage: 188.5 KB\n"
          ]
        }
      ]
    },
    {
      "cell_type": "code",
      "source": [
        "\n",
        "df.to_csv('data.csv')\n"
      ],
      "metadata": {
        "id": "E_pe0ku1lLx3"
      },
      "execution_count": 126,
      "outputs": []
    },
    {
      "cell_type": "code",
      "source": [
        "df_train=df.iloc[:-100]\n",
        "df_test=df.iloc[-100:]\n"
      ],
      "metadata": {
        "id": "P2M3cQd57q_W"
      },
      "execution_count": 127,
      "outputs": []
    },
    {
      "cell_type": "code",
      "source": [
        "trainset = df_train.iloc[:,1:2].values\n",
        "display(trainset[0:5])"
      ],
      "metadata": {
        "colab": {
          "base_uri": "https://localhost:8080/",
          "height": 109
        },
        "id": "TZYeKOYR7rEs",
        "outputId": "512ddb46-996c-44cd-f20c-5c717220bbaf"
      },
      "execution_count": 128,
      "outputs": [
        {
          "output_type": "display_data",
          "data": {
            "text/plain": [
              "array([[7.83449984],\n",
              "       [7.7579999 ],\n",
              "       [7.921     ],\n",
              "       [8.25      ],\n",
              "       [8.0340004 ]])"
            ]
          },
          "metadata": {}
        }
      ]
    },
    {
      "cell_type": "code",
      "source": [
        "import tensorflow as tf\n",
        "from sklearn.preprocessing import MinMaxScaler\n",
        "from sklearn.metrics import mean_squared_error\n",
        "from tensorflow.keras.models import Sequential\n",
        "from tensorflow.keras.layers import Dense, LSTM, Dropout"
      ],
      "metadata": {
        "id": "MAPWgGKWzRL_"
      },
      "execution_count": 129,
      "outputs": []
    },
    {
      "cell_type": "code",
      "source": [
        "sc = MinMaxScaler(feature_range = (0,1))\n",
        "training_scaled = sc.fit_transform(trainset)\n",
        "print(training_scaled[0:5])\n",
        "print(len(training_scaled))"
      ],
      "metadata": {
        "colab": {
          "base_uri": "https://localhost:8080/"
        },
        "id": "nUaE_Qsc76F1",
        "outputId": "bf548eeb-16de-48eb-df0d-13d6c2c19f79"
      },
      "execution_count": 130,
      "outputs": [
        {
          "output_type": "stream",
          "name": "stdout",
          "text": [
            "[[0.00042632]\n",
            " [0.        ]\n",
            " [0.00090837]\n",
            " [0.00274183]\n",
            " [0.0015381 ]]\n",
            "3344\n"
          ]
        }
      ]
    },
    {
      "cell_type": "code",
      "source": [
        "x_train = []\n",
        "y_train = []"
      ],
      "metadata": {
        "id": "_lRPne3i76Kx"
      },
      "execution_count": 131,
      "outputs": []
    },
    {
      "cell_type": "code",
      "source": [
        "for i in range(60,len(training_scaled)):\n",
        "    x_train.append(training_scaled[i-60:i, 0])\n",
        "    y_train.append(training_scaled[i,0])\n",
        "x_train,y_train = np.array(x_train),np.array(y_train)\n",
        "print(x_train.shape,y_train.shape)"
      ],
      "metadata": {
        "colab": {
          "base_uri": "https://localhost:8080/"
        },
        "id": "mAm2LSGW76P-",
        "outputId": "68071994-ba44-4aaa-84db-c4efb4f4389d"
      },
      "execution_count": 132,
      "outputs": [
        {
          "output_type": "stream",
          "name": "stdout",
          "text": [
            "(3284, 60) (3284,)\n"
          ]
        }
      ]
    },
    {
      "cell_type": "code",
      "source": [
        "x_train = np.reshape(x_train, (x_train.shape[0],x_train.shape[1],1))\n",
        "print('(samples, time steps, features) =',x_train.shape)"
      ],
      "metadata": {
        "colab": {
          "base_uri": "https://localhost:8080/"
        },
        "id": "Vsesb26e76VR",
        "outputId": "e5f37778-98ff-4455-e404-a4a2513cb7b3"
      },
      "execution_count": 133,
      "outputs": [
        {
          "output_type": "stream",
          "name": "stdout",
          "text": [
            "(samples, time steps, features) = (3284, 60, 1)\n"
          ]
        }
      ]
    },
    {
      "cell_type": "code",
      "source": [
        "regressor = Sequential()\n",
        "regressor.add(LSTM(units = 50,return_sequences = True,input_shape = (x_train.shape[1],1)))\n",
        "regressor.add(Dropout(0.2))\n",
        "regressor.add(LSTM(units = 50,return_sequences = True))\n",
        "regressor.add(Dropout(0.2))\n",
        "regressor.add(LSTM(units = 50,return_sequences = True))\n",
        "regressor.add(Dropout(0.2))\n",
        "regressor.add(LSTM(units = 50))\n",
        "regressor.add(Dropout(0.2))\n",
        "regressor.add(Dense(units = 1))"
      ],
      "metadata": {
        "id": "G2SnkJP776Z7"
      },
      "execution_count": 134,
      "outputs": []
    },
    {
      "cell_type": "code",
      "source": [
        "regressor.compile(optimizer = 'adam',loss = 'mean_squared_error')\n",
        "\n",
        "regressor.fit(x_train,y_train,epochs =30, batch_size = 32)"
      ],
      "metadata": {
        "colab": {
          "base_uri": "https://localhost:8080/"
        },
        "id": "2PpDVX8l8H_g",
        "outputId": "e531d755-becc-48d0-8779-4788d5923051"
      },
      "execution_count": 135,
      "outputs": [
        {
          "output_type": "stream",
          "name": "stdout",
          "text": [
            "Epoch 1/30\n",
            "103/103 [==============================] - 11s 17ms/step - loss: 0.0116\n",
            "Epoch 2/30\n",
            "103/103 [==============================] - 2s 17ms/step - loss: 0.0033\n",
            "Epoch 3/30\n",
            "103/103 [==============================] - 2s 17ms/step - loss: 0.0030\n",
            "Epoch 4/30\n",
            "103/103 [==============================] - 2s 17ms/step - loss: 0.0029\n",
            "Epoch 5/30\n",
            "103/103 [==============================] - 2s 16ms/step - loss: 0.0028\n",
            "Epoch 6/30\n",
            "103/103 [==============================] - 2s 18ms/step - loss: 0.0024\n",
            "Epoch 7/30\n",
            "103/103 [==============================] - 2s 24ms/step - loss: 0.0028\n",
            "Epoch 8/30\n",
            "103/103 [==============================] - 2s 18ms/step - loss: 0.0022\n",
            "Epoch 9/30\n",
            "103/103 [==============================] - 2s 17ms/step - loss: 0.0019\n",
            "Epoch 10/30\n",
            "103/103 [==============================] - 2s 17ms/step - loss: 0.0023\n",
            "Epoch 11/30\n",
            "103/103 [==============================] - 2s 17ms/step - loss: 0.0019\n",
            "Epoch 12/30\n",
            "103/103 [==============================] - 2s 17ms/step - loss: 0.0018\n",
            "Epoch 13/30\n",
            "103/103 [==============================] - 2s 17ms/step - loss: 0.0019\n",
            "Epoch 14/30\n",
            "103/103 [==============================] - 2s 24ms/step - loss: 0.0018\n",
            "Epoch 15/30\n",
            "103/103 [==============================] - 2s 21ms/step - loss: 0.0017\n",
            "Epoch 16/30\n",
            "103/103 [==============================] - 2s 17ms/step - loss: 0.0017\n",
            "Epoch 17/30\n",
            "103/103 [==============================] - 2s 17ms/step - loss: 0.0015\n",
            "Epoch 18/30\n",
            "103/103 [==============================] - 2s 16ms/step - loss: 0.0018\n",
            "Epoch 19/30\n",
            "103/103 [==============================] - 2s 16ms/step - loss: 0.0016\n",
            "Epoch 20/30\n",
            "103/103 [==============================] - 2s 16ms/step - loss: 0.0016\n",
            "Epoch 21/30\n",
            "103/103 [==============================] - 2s 21ms/step - loss: 0.0015\n",
            "Epoch 22/30\n",
            "103/103 [==============================] - 2s 23ms/step - loss: 0.0013\n",
            "Epoch 23/30\n",
            "103/103 [==============================] - 2s 16ms/step - loss: 0.0014\n",
            "Epoch 24/30\n",
            "103/103 [==============================] - 2s 17ms/step - loss: 0.0014\n",
            "Epoch 25/30\n",
            "103/103 [==============================] - 2s 17ms/step - loss: 0.0014\n",
            "Epoch 26/30\n",
            "103/103 [==============================] - 2s 17ms/step - loss: 0.0015\n",
            "Epoch 27/30\n",
            "103/103 [==============================] - 2s 17ms/step - loss: 0.0016\n",
            "Epoch 28/30\n",
            "103/103 [==============================] - 2s 20ms/step - loss: 0.0013\n",
            "Epoch 29/30\n",
            "103/103 [==============================] - 2s 24ms/step - loss: 0.0013\n",
            "Epoch 30/30\n",
            "103/103 [==============================] - 2s 17ms/step - loss: 0.0013\n"
          ]
        },
        {
          "output_type": "execute_result",
          "data": {
            "text/plain": [
              "<keras.src.callbacks.History at 0x7a84cce1cd30>"
            ]
          },
          "metadata": {},
          "execution_count": 135
        }
      ]
    },
    {
      "cell_type": "code",
      "source": [
        "# Python ile geçmiş Finans verilerini içe aktarma ve biçimlendir.\n",
        "import csv\n",
        "from datetime import datetime\n",
        "\n",
        "timesteps = []\n",
        "df_price = []\n",
        "with open(\"/content/data.csv\", \"r\") as f:\n",
        "  csv_reader = csv.reader(f, delimiter=\",\")\n",
        "  next(csv_reader) # ilk satırı atla (bu, sütun başlıklarından kurtulur)\n",
        "  for line in csv_reader:\n",
        "    timesteps.append(datetime.strptime(line[1], \"%Y-%m-%d\")) # tarihleri tarih olarak al (dizgi olarak değil)\n",
        "    df_price.append(float(line[2])) # kapanış fiyatını kayan nokta olarak alın\n",
        "\n",
        "timesteps[:10], df_price[:10]"
      ],
      "metadata": {
        "colab": {
          "base_uri": "https://localhost:8080/"
        },
        "id": "0oe1mCOolRov",
        "outputId": "c4f36442-d4f3-4b82-9859-c159c8e7a49d"
      },
      "execution_count": 136,
      "outputs": [
        {
          "output_type": "execute_result",
          "data": {
            "text/plain": [
              "([datetime.datetime(2010, 10, 13, 0, 0),\n",
              "  datetime.datetime(2010, 10, 14, 0, 0),\n",
              "  datetime.datetime(2010, 10, 15, 0, 0),\n",
              "  datetime.datetime(2010, 10, 18, 0, 0),\n",
              "  datetime.datetime(2010, 10, 19, 0, 0),\n",
              "  datetime.datetime(2010, 10, 20, 0, 0),\n",
              "  datetime.datetime(2010, 10, 21, 0, 0),\n",
              "  datetime.datetime(2010, 10, 22, 0, 0),\n",
              "  datetime.datetime(2010, 10, 25, 0, 0),\n",
              "  datetime.datetime(2010, 10, 26, 0, 0)],\n",
              " [7.834499835968018,\n",
              "  7.757999897003174,\n",
              "  7.921000003814697,\n",
              "  8.25,\n",
              "  8.034000396728516,\n",
              "  7.939000129699707,\n",
              "  8.133500099182129,\n",
              "  8.1225004196167,\n",
              "  8.578499794006348,\n",
              "  8.378499984741211])"
            ]
          },
          "metadata": {},
          "execution_count": 136
        }
      ]
    },
    {
      "cell_type": "code",
      "source": [
        "df = df[['Date', 'Close']]\n",
        "\n",
        "df"
      ],
      "metadata": {
        "colab": {
          "base_uri": "https://localhost:8080/",
          "height": 423
        },
        "id": "t-tSX67Un0tT",
        "outputId": "49aebb80-a2e0-4e61-8781-fe95129b534d"
      },
      "execution_count": 137,
      "outputs": [
        {
          "output_type": "execute_result",
          "data": {
            "text/plain": [
              "           Date       Close\n",
              "0    2010-10-13    7.758500\n",
              "1    2010-10-14    7.776500\n",
              "2    2010-10-15    8.232000\n",
              "3    2010-10-18    8.178000\n",
              "4    2010-10-19    7.933500\n",
              "...         ...         ...\n",
              "3439 2024-06-13  183.830002\n",
              "3440 2024-06-14  183.660004\n",
              "3441 2024-06-17  184.059998\n",
              "3442 2024-06-18  182.809998\n",
              "3443 2024-06-20  186.100006\n",
              "\n",
              "[3444 rows x 2 columns]"
            ],
            "text/html": [
              "\n",
              "  <div id=\"df-610f0e9c-b62e-4d84-9373-8acb6567b7ab\" class=\"colab-df-container\">\n",
              "    <div>\n",
              "<style scoped>\n",
              "    .dataframe tbody tr th:only-of-type {\n",
              "        vertical-align: middle;\n",
              "    }\n",
              "\n",
              "    .dataframe tbody tr th {\n",
              "        vertical-align: top;\n",
              "    }\n",
              "\n",
              "    .dataframe thead th {\n",
              "        text-align: right;\n",
              "    }\n",
              "</style>\n",
              "<table border=\"1\" class=\"dataframe\">\n",
              "  <thead>\n",
              "    <tr style=\"text-align: right;\">\n",
              "      <th></th>\n",
              "      <th>Date</th>\n",
              "      <th>Close</th>\n",
              "    </tr>\n",
              "  </thead>\n",
              "  <tbody>\n",
              "    <tr>\n",
              "      <th>0</th>\n",
              "      <td>2010-10-13</td>\n",
              "      <td>7.758500</td>\n",
              "    </tr>\n",
              "    <tr>\n",
              "      <th>1</th>\n",
              "      <td>2010-10-14</td>\n",
              "      <td>7.776500</td>\n",
              "    </tr>\n",
              "    <tr>\n",
              "      <th>2</th>\n",
              "      <td>2010-10-15</td>\n",
              "      <td>8.232000</td>\n",
              "    </tr>\n",
              "    <tr>\n",
              "      <th>3</th>\n",
              "      <td>2010-10-18</td>\n",
              "      <td>8.178000</td>\n",
              "    </tr>\n",
              "    <tr>\n",
              "      <th>4</th>\n",
              "      <td>2010-10-19</td>\n",
              "      <td>7.933500</td>\n",
              "    </tr>\n",
              "    <tr>\n",
              "      <th>...</th>\n",
              "      <td>...</td>\n",
              "      <td>...</td>\n",
              "    </tr>\n",
              "    <tr>\n",
              "      <th>3439</th>\n",
              "      <td>2024-06-13</td>\n",
              "      <td>183.830002</td>\n",
              "    </tr>\n",
              "    <tr>\n",
              "      <th>3440</th>\n",
              "      <td>2024-06-14</td>\n",
              "      <td>183.660004</td>\n",
              "    </tr>\n",
              "    <tr>\n",
              "      <th>3441</th>\n",
              "      <td>2024-06-17</td>\n",
              "      <td>184.059998</td>\n",
              "    </tr>\n",
              "    <tr>\n",
              "      <th>3442</th>\n",
              "      <td>2024-06-18</td>\n",
              "      <td>182.809998</td>\n",
              "    </tr>\n",
              "    <tr>\n",
              "      <th>3443</th>\n",
              "      <td>2024-06-20</td>\n",
              "      <td>186.100006</td>\n",
              "    </tr>\n",
              "  </tbody>\n",
              "</table>\n",
              "<p>3444 rows × 2 columns</p>\n",
              "</div>\n",
              "    <div class=\"colab-df-buttons\">\n",
              "\n",
              "  <div class=\"colab-df-container\">\n",
              "    <button class=\"colab-df-convert\" onclick=\"convertToInteractive('df-610f0e9c-b62e-4d84-9373-8acb6567b7ab')\"\n",
              "            title=\"Convert this dataframe to an interactive table.\"\n",
              "            style=\"display:none;\">\n",
              "\n",
              "  <svg xmlns=\"http://www.w3.org/2000/svg\" height=\"24px\" viewBox=\"0 -960 960 960\">\n",
              "    <path d=\"M120-120v-720h720v720H120Zm60-500h600v-160H180v160Zm220 220h160v-160H400v160Zm0 220h160v-160H400v160ZM180-400h160v-160H180v160Zm440 0h160v-160H620v160ZM180-180h160v-160H180v160Zm440 0h160v-160H620v160Z\"/>\n",
              "  </svg>\n",
              "    </button>\n",
              "\n",
              "  <style>\n",
              "    .colab-df-container {\n",
              "      display:flex;\n",
              "      gap: 12px;\n",
              "    }\n",
              "\n",
              "    .colab-df-convert {\n",
              "      background-color: #E8F0FE;\n",
              "      border: none;\n",
              "      border-radius: 50%;\n",
              "      cursor: pointer;\n",
              "      display: none;\n",
              "      fill: #1967D2;\n",
              "      height: 32px;\n",
              "      padding: 0 0 0 0;\n",
              "      width: 32px;\n",
              "    }\n",
              "\n",
              "    .colab-df-convert:hover {\n",
              "      background-color: #E2EBFA;\n",
              "      box-shadow: 0px 1px 2px rgba(60, 64, 67, 0.3), 0px 1px 3px 1px rgba(60, 64, 67, 0.15);\n",
              "      fill: #174EA6;\n",
              "    }\n",
              "\n",
              "    .colab-df-buttons div {\n",
              "      margin-bottom: 4px;\n",
              "    }\n",
              "\n",
              "    [theme=dark] .colab-df-convert {\n",
              "      background-color: #3B4455;\n",
              "      fill: #D2E3FC;\n",
              "    }\n",
              "\n",
              "    [theme=dark] .colab-df-convert:hover {\n",
              "      background-color: #434B5C;\n",
              "      box-shadow: 0px 1px 3px 1px rgba(0, 0, 0, 0.15);\n",
              "      filter: drop-shadow(0px 1px 2px rgba(0, 0, 0, 0.3));\n",
              "      fill: #FFFFFF;\n",
              "    }\n",
              "  </style>\n",
              "\n",
              "    <script>\n",
              "      const buttonEl =\n",
              "        document.querySelector('#df-610f0e9c-b62e-4d84-9373-8acb6567b7ab button.colab-df-convert');\n",
              "      buttonEl.style.display =\n",
              "        google.colab.kernel.accessAllowed ? 'block' : 'none';\n",
              "\n",
              "      async function convertToInteractive(key) {\n",
              "        const element = document.querySelector('#df-610f0e9c-b62e-4d84-9373-8acb6567b7ab');\n",
              "        const dataTable =\n",
              "          await google.colab.kernel.invokeFunction('convertToInteractive',\n",
              "                                                    [key], {});\n",
              "        if (!dataTable) return;\n",
              "\n",
              "        const docLinkHtml = 'Like what you see? Visit the ' +\n",
              "          '<a target=\"_blank\" href=https://colab.research.google.com/notebooks/data_table.ipynb>data table notebook</a>'\n",
              "          + ' to learn more about interactive tables.';\n",
              "        element.innerHTML = '';\n",
              "        dataTable['output_type'] = 'display_data';\n",
              "        await google.colab.output.renderOutput(dataTable, element);\n",
              "        const docLink = document.createElement('div');\n",
              "        docLink.innerHTML = docLinkHtml;\n",
              "        element.appendChild(docLink);\n",
              "      }\n",
              "    </script>\n",
              "  </div>\n",
              "\n",
              "\n",
              "<div id=\"df-82d9f349-a210-40f1-b418-fd488ee9e604\">\n",
              "  <button class=\"colab-df-quickchart\" onclick=\"quickchart('df-82d9f349-a210-40f1-b418-fd488ee9e604')\"\n",
              "            title=\"Suggest charts\"\n",
              "            style=\"display:none;\">\n",
              "\n",
              "<svg xmlns=\"http://www.w3.org/2000/svg\" height=\"24px\"viewBox=\"0 0 24 24\"\n",
              "     width=\"24px\">\n",
              "    <g>\n",
              "        <path d=\"M19 3H5c-1.1 0-2 .9-2 2v14c0 1.1.9 2 2 2h14c1.1 0 2-.9 2-2V5c0-1.1-.9-2-2-2zM9 17H7v-7h2v7zm4 0h-2V7h2v10zm4 0h-2v-4h2v4z\"/>\n",
              "    </g>\n",
              "</svg>\n",
              "  </button>\n",
              "\n",
              "<style>\n",
              "  .colab-df-quickchart {\n",
              "      --bg-color: #E8F0FE;\n",
              "      --fill-color: #1967D2;\n",
              "      --hover-bg-color: #E2EBFA;\n",
              "      --hover-fill-color: #174EA6;\n",
              "      --disabled-fill-color: #AAA;\n",
              "      --disabled-bg-color: #DDD;\n",
              "  }\n",
              "\n",
              "  [theme=dark] .colab-df-quickchart {\n",
              "      --bg-color: #3B4455;\n",
              "      --fill-color: #D2E3FC;\n",
              "      --hover-bg-color: #434B5C;\n",
              "      --hover-fill-color: #FFFFFF;\n",
              "      --disabled-bg-color: #3B4455;\n",
              "      --disabled-fill-color: #666;\n",
              "  }\n",
              "\n",
              "  .colab-df-quickchart {\n",
              "    background-color: var(--bg-color);\n",
              "    border: none;\n",
              "    border-radius: 50%;\n",
              "    cursor: pointer;\n",
              "    display: none;\n",
              "    fill: var(--fill-color);\n",
              "    height: 32px;\n",
              "    padding: 0;\n",
              "    width: 32px;\n",
              "  }\n",
              "\n",
              "  .colab-df-quickchart:hover {\n",
              "    background-color: var(--hover-bg-color);\n",
              "    box-shadow: 0 1px 2px rgba(60, 64, 67, 0.3), 0 1px 3px 1px rgba(60, 64, 67, 0.15);\n",
              "    fill: var(--button-hover-fill-color);\n",
              "  }\n",
              "\n",
              "  .colab-df-quickchart-complete:disabled,\n",
              "  .colab-df-quickchart-complete:disabled:hover {\n",
              "    background-color: var(--disabled-bg-color);\n",
              "    fill: var(--disabled-fill-color);\n",
              "    box-shadow: none;\n",
              "  }\n",
              "\n",
              "  .colab-df-spinner {\n",
              "    border: 2px solid var(--fill-color);\n",
              "    border-color: transparent;\n",
              "    border-bottom-color: var(--fill-color);\n",
              "    animation:\n",
              "      spin 1s steps(1) infinite;\n",
              "  }\n",
              "\n",
              "  @keyframes spin {\n",
              "    0% {\n",
              "      border-color: transparent;\n",
              "      border-bottom-color: var(--fill-color);\n",
              "      border-left-color: var(--fill-color);\n",
              "    }\n",
              "    20% {\n",
              "      border-color: transparent;\n",
              "      border-left-color: var(--fill-color);\n",
              "      border-top-color: var(--fill-color);\n",
              "    }\n",
              "    30% {\n",
              "      border-color: transparent;\n",
              "      border-left-color: var(--fill-color);\n",
              "      border-top-color: var(--fill-color);\n",
              "      border-right-color: var(--fill-color);\n",
              "    }\n",
              "    40% {\n",
              "      border-color: transparent;\n",
              "      border-right-color: var(--fill-color);\n",
              "      border-top-color: var(--fill-color);\n",
              "    }\n",
              "    60% {\n",
              "      border-color: transparent;\n",
              "      border-right-color: var(--fill-color);\n",
              "    }\n",
              "    80% {\n",
              "      border-color: transparent;\n",
              "      border-right-color: var(--fill-color);\n",
              "      border-bottom-color: var(--fill-color);\n",
              "    }\n",
              "    90% {\n",
              "      border-color: transparent;\n",
              "      border-bottom-color: var(--fill-color);\n",
              "    }\n",
              "  }\n",
              "</style>\n",
              "\n",
              "  <script>\n",
              "    async function quickchart(key) {\n",
              "      const quickchartButtonEl =\n",
              "        document.querySelector('#' + key + ' button');\n",
              "      quickchartButtonEl.disabled = true;  // To prevent multiple clicks.\n",
              "      quickchartButtonEl.classList.add('colab-df-spinner');\n",
              "      try {\n",
              "        const charts = await google.colab.kernel.invokeFunction(\n",
              "            'suggestCharts', [key], {});\n",
              "      } catch (error) {\n",
              "        console.error('Error during call to suggestCharts:', error);\n",
              "      }\n",
              "      quickchartButtonEl.classList.remove('colab-df-spinner');\n",
              "      quickchartButtonEl.classList.add('colab-df-quickchart-complete');\n",
              "    }\n",
              "    (() => {\n",
              "      let quickchartButtonEl =\n",
              "        document.querySelector('#df-82d9f349-a210-40f1-b418-fd488ee9e604 button');\n",
              "      quickchartButtonEl.style.display =\n",
              "        google.colab.kernel.accessAllowed ? 'block' : 'none';\n",
              "    })();\n",
              "  </script>\n",
              "</div>\n",
              "\n",
              "  <div id=\"id_1c91de34-cb90-480c-a645-2ff62e1d9198\">\n",
              "    <style>\n",
              "      .colab-df-generate {\n",
              "        background-color: #E8F0FE;\n",
              "        border: none;\n",
              "        border-radius: 50%;\n",
              "        cursor: pointer;\n",
              "        display: none;\n",
              "        fill: #1967D2;\n",
              "        height: 32px;\n",
              "        padding: 0 0 0 0;\n",
              "        width: 32px;\n",
              "      }\n",
              "\n",
              "      .colab-df-generate:hover {\n",
              "        background-color: #E2EBFA;\n",
              "        box-shadow: 0px 1px 2px rgba(60, 64, 67, 0.3), 0px 1px 3px 1px rgba(60, 64, 67, 0.15);\n",
              "        fill: #174EA6;\n",
              "      }\n",
              "\n",
              "      [theme=dark] .colab-df-generate {\n",
              "        background-color: #3B4455;\n",
              "        fill: #D2E3FC;\n",
              "      }\n",
              "\n",
              "      [theme=dark] .colab-df-generate:hover {\n",
              "        background-color: #434B5C;\n",
              "        box-shadow: 0px 1px 3px 1px rgba(0, 0, 0, 0.15);\n",
              "        filter: drop-shadow(0px 1px 2px rgba(0, 0, 0, 0.3));\n",
              "        fill: #FFFFFF;\n",
              "      }\n",
              "    </style>\n",
              "    <button class=\"colab-df-generate\" onclick=\"generateWithVariable('df')\"\n",
              "            title=\"Generate code using this dataframe.\"\n",
              "            style=\"display:none;\">\n",
              "\n",
              "  <svg xmlns=\"http://www.w3.org/2000/svg\" height=\"24px\"viewBox=\"0 0 24 24\"\n",
              "       width=\"24px\">\n",
              "    <path d=\"M7,19H8.4L18.45,9,17,7.55,7,17.6ZM5,21V16.75L18.45,3.32a2,2,0,0,1,2.83,0l1.4,1.43a1.91,1.91,0,0,1,.58,1.4,1.91,1.91,0,0,1-.58,1.4L9.25,21ZM18.45,9,17,7.55Zm-12,3A5.31,5.31,0,0,0,4.9,8.1,5.31,5.31,0,0,0,1,6.5,5.31,5.31,0,0,0,4.9,4.9,5.31,5.31,0,0,0,6.5,1,5.31,5.31,0,0,0,8.1,4.9,5.31,5.31,0,0,0,12,6.5,5.46,5.46,0,0,0,6.5,12Z\"/>\n",
              "  </svg>\n",
              "    </button>\n",
              "    <script>\n",
              "      (() => {\n",
              "      const buttonEl =\n",
              "        document.querySelector('#id_1c91de34-cb90-480c-a645-2ff62e1d9198 button.colab-df-generate');\n",
              "      buttonEl.style.display =\n",
              "        google.colab.kernel.accessAllowed ? 'block' : 'none';\n",
              "\n",
              "      buttonEl.onclick = () => {\n",
              "        google.colab.notebook.generateWithVariable('df');\n",
              "      }\n",
              "      })();\n",
              "    </script>\n",
              "  </div>\n",
              "\n",
              "    </div>\n",
              "  </div>\n"
            ],
            "application/vnd.google.colaboratory.intrinsic+json": {
              "type": "dataframe",
              "variable_name": "df",
              "summary": "{\n  \"name\": \"df\",\n  \"rows\": 3444,\n  \"fields\": [\n    {\n      \"column\": \"Date\",\n      \"properties\": {\n        \"dtype\": \"date\",\n        \"min\": \"2010-10-13 00:00:00\",\n        \"max\": \"2024-06-20 00:00:00\",\n        \"num_unique_values\": 3444,\n        \"samples\": [\n          \"2017-09-20 00:00:00\",\n          \"2010-12-27 00:00:00\",\n          \"2018-11-23 00:00:00\"\n        ],\n        \"semantic_type\": \"\",\n        \"description\": \"\"\n      }\n    },\n    {\n      \"column\": \"Close\",\n      \"properties\": {\n        \"dtype\": \"number\",\n        \"std\": 57.12044791542593,\n        \"min\": 7.758500099182129,\n        \"max\": 189.5,\n        \"num_unique_values\": 3379,\n        \"samples\": [\n          10.923999786376953,\n          9.383999824523926,\n          12.355999946594238\n        ],\n        \"semantic_type\": \"\",\n        \"description\": \"\"\n      }\n    }\n  ]\n}"
            }
          },
          "metadata": {},
          "execution_count": 137
        }
      ]
    },
    {
      "cell_type": "code",
      "source": [
        "df.head()"
      ],
      "metadata": {
        "colab": {
          "base_uri": "https://localhost:8080/",
          "height": 206
        },
        "id": "XLHdId7alRsH",
        "outputId": "de49e206-9a04-4a9f-98fa-5a1e5657749f"
      },
      "execution_count": 138,
      "outputs": [
        {
          "output_type": "execute_result",
          "data": {
            "text/plain": [
              "        Date   Close\n",
              "0 2010-10-13  7.7585\n",
              "1 2010-10-14  7.7765\n",
              "2 2010-10-15  8.2320\n",
              "3 2010-10-18  8.1780\n",
              "4 2010-10-19  7.9335"
            ],
            "text/html": [
              "\n",
              "  <div id=\"df-1b8d5f96-c327-4174-a72f-f66b0bcdc2b7\" class=\"colab-df-container\">\n",
              "    <div>\n",
              "<style scoped>\n",
              "    .dataframe tbody tr th:only-of-type {\n",
              "        vertical-align: middle;\n",
              "    }\n",
              "\n",
              "    .dataframe tbody tr th {\n",
              "        vertical-align: top;\n",
              "    }\n",
              "\n",
              "    .dataframe thead th {\n",
              "        text-align: right;\n",
              "    }\n",
              "</style>\n",
              "<table border=\"1\" class=\"dataframe\">\n",
              "  <thead>\n",
              "    <tr style=\"text-align: right;\">\n",
              "      <th></th>\n",
              "      <th>Date</th>\n",
              "      <th>Close</th>\n",
              "    </tr>\n",
              "  </thead>\n",
              "  <tbody>\n",
              "    <tr>\n",
              "      <th>0</th>\n",
              "      <td>2010-10-13</td>\n",
              "      <td>7.7585</td>\n",
              "    </tr>\n",
              "    <tr>\n",
              "      <th>1</th>\n",
              "      <td>2010-10-14</td>\n",
              "      <td>7.7765</td>\n",
              "    </tr>\n",
              "    <tr>\n",
              "      <th>2</th>\n",
              "      <td>2010-10-15</td>\n",
              "      <td>8.2320</td>\n",
              "    </tr>\n",
              "    <tr>\n",
              "      <th>3</th>\n",
              "      <td>2010-10-18</td>\n",
              "      <td>8.1780</td>\n",
              "    </tr>\n",
              "    <tr>\n",
              "      <th>4</th>\n",
              "      <td>2010-10-19</td>\n",
              "      <td>7.9335</td>\n",
              "    </tr>\n",
              "  </tbody>\n",
              "</table>\n",
              "</div>\n",
              "    <div class=\"colab-df-buttons\">\n",
              "\n",
              "  <div class=\"colab-df-container\">\n",
              "    <button class=\"colab-df-convert\" onclick=\"convertToInteractive('df-1b8d5f96-c327-4174-a72f-f66b0bcdc2b7')\"\n",
              "            title=\"Convert this dataframe to an interactive table.\"\n",
              "            style=\"display:none;\">\n",
              "\n",
              "  <svg xmlns=\"http://www.w3.org/2000/svg\" height=\"24px\" viewBox=\"0 -960 960 960\">\n",
              "    <path d=\"M120-120v-720h720v720H120Zm60-500h600v-160H180v160Zm220 220h160v-160H400v160Zm0 220h160v-160H400v160ZM180-400h160v-160H180v160Zm440 0h160v-160H620v160ZM180-180h160v-160H180v160Zm440 0h160v-160H620v160Z\"/>\n",
              "  </svg>\n",
              "    </button>\n",
              "\n",
              "  <style>\n",
              "    .colab-df-container {\n",
              "      display:flex;\n",
              "      gap: 12px;\n",
              "    }\n",
              "\n",
              "    .colab-df-convert {\n",
              "      background-color: #E8F0FE;\n",
              "      border: none;\n",
              "      border-radius: 50%;\n",
              "      cursor: pointer;\n",
              "      display: none;\n",
              "      fill: #1967D2;\n",
              "      height: 32px;\n",
              "      padding: 0 0 0 0;\n",
              "      width: 32px;\n",
              "    }\n",
              "\n",
              "    .colab-df-convert:hover {\n",
              "      background-color: #E2EBFA;\n",
              "      box-shadow: 0px 1px 2px rgba(60, 64, 67, 0.3), 0px 1px 3px 1px rgba(60, 64, 67, 0.15);\n",
              "      fill: #174EA6;\n",
              "    }\n",
              "\n",
              "    .colab-df-buttons div {\n",
              "      margin-bottom: 4px;\n",
              "    }\n",
              "\n",
              "    [theme=dark] .colab-df-convert {\n",
              "      background-color: #3B4455;\n",
              "      fill: #D2E3FC;\n",
              "    }\n",
              "\n",
              "    [theme=dark] .colab-df-convert:hover {\n",
              "      background-color: #434B5C;\n",
              "      box-shadow: 0px 1px 3px 1px rgba(0, 0, 0, 0.15);\n",
              "      filter: drop-shadow(0px 1px 2px rgba(0, 0, 0, 0.3));\n",
              "      fill: #FFFFFF;\n",
              "    }\n",
              "  </style>\n",
              "\n",
              "    <script>\n",
              "      const buttonEl =\n",
              "        document.querySelector('#df-1b8d5f96-c327-4174-a72f-f66b0bcdc2b7 button.colab-df-convert');\n",
              "      buttonEl.style.display =\n",
              "        google.colab.kernel.accessAllowed ? 'block' : 'none';\n",
              "\n",
              "      async function convertToInteractive(key) {\n",
              "        const element = document.querySelector('#df-1b8d5f96-c327-4174-a72f-f66b0bcdc2b7');\n",
              "        const dataTable =\n",
              "          await google.colab.kernel.invokeFunction('convertToInteractive',\n",
              "                                                    [key], {});\n",
              "        if (!dataTable) return;\n",
              "\n",
              "        const docLinkHtml = 'Like what you see? Visit the ' +\n",
              "          '<a target=\"_blank\" href=https://colab.research.google.com/notebooks/data_table.ipynb>data table notebook</a>'\n",
              "          + ' to learn more about interactive tables.';\n",
              "        element.innerHTML = '';\n",
              "        dataTable['output_type'] = 'display_data';\n",
              "        await google.colab.output.renderOutput(dataTable, element);\n",
              "        const docLink = document.createElement('div');\n",
              "        docLink.innerHTML = docLinkHtml;\n",
              "        element.appendChild(docLink);\n",
              "      }\n",
              "    </script>\n",
              "  </div>\n",
              "\n",
              "\n",
              "<div id=\"df-b10d422d-7310-4060-844c-07458e3c92a3\">\n",
              "  <button class=\"colab-df-quickchart\" onclick=\"quickchart('df-b10d422d-7310-4060-844c-07458e3c92a3')\"\n",
              "            title=\"Suggest charts\"\n",
              "            style=\"display:none;\">\n",
              "\n",
              "<svg xmlns=\"http://www.w3.org/2000/svg\" height=\"24px\"viewBox=\"0 0 24 24\"\n",
              "     width=\"24px\">\n",
              "    <g>\n",
              "        <path d=\"M19 3H5c-1.1 0-2 .9-2 2v14c0 1.1.9 2 2 2h14c1.1 0 2-.9 2-2V5c0-1.1-.9-2-2-2zM9 17H7v-7h2v7zm4 0h-2V7h2v10zm4 0h-2v-4h2v4z\"/>\n",
              "    </g>\n",
              "</svg>\n",
              "  </button>\n",
              "\n",
              "<style>\n",
              "  .colab-df-quickchart {\n",
              "      --bg-color: #E8F0FE;\n",
              "      --fill-color: #1967D2;\n",
              "      --hover-bg-color: #E2EBFA;\n",
              "      --hover-fill-color: #174EA6;\n",
              "      --disabled-fill-color: #AAA;\n",
              "      --disabled-bg-color: #DDD;\n",
              "  }\n",
              "\n",
              "  [theme=dark] .colab-df-quickchart {\n",
              "      --bg-color: #3B4455;\n",
              "      --fill-color: #D2E3FC;\n",
              "      --hover-bg-color: #434B5C;\n",
              "      --hover-fill-color: #FFFFFF;\n",
              "      --disabled-bg-color: #3B4455;\n",
              "      --disabled-fill-color: #666;\n",
              "  }\n",
              "\n",
              "  .colab-df-quickchart {\n",
              "    background-color: var(--bg-color);\n",
              "    border: none;\n",
              "    border-radius: 50%;\n",
              "    cursor: pointer;\n",
              "    display: none;\n",
              "    fill: var(--fill-color);\n",
              "    height: 32px;\n",
              "    padding: 0;\n",
              "    width: 32px;\n",
              "  }\n",
              "\n",
              "  .colab-df-quickchart:hover {\n",
              "    background-color: var(--hover-bg-color);\n",
              "    box-shadow: 0 1px 2px rgba(60, 64, 67, 0.3), 0 1px 3px 1px rgba(60, 64, 67, 0.15);\n",
              "    fill: var(--button-hover-fill-color);\n",
              "  }\n",
              "\n",
              "  .colab-df-quickchart-complete:disabled,\n",
              "  .colab-df-quickchart-complete:disabled:hover {\n",
              "    background-color: var(--disabled-bg-color);\n",
              "    fill: var(--disabled-fill-color);\n",
              "    box-shadow: none;\n",
              "  }\n",
              "\n",
              "  .colab-df-spinner {\n",
              "    border: 2px solid var(--fill-color);\n",
              "    border-color: transparent;\n",
              "    border-bottom-color: var(--fill-color);\n",
              "    animation:\n",
              "      spin 1s steps(1) infinite;\n",
              "  }\n",
              "\n",
              "  @keyframes spin {\n",
              "    0% {\n",
              "      border-color: transparent;\n",
              "      border-bottom-color: var(--fill-color);\n",
              "      border-left-color: var(--fill-color);\n",
              "    }\n",
              "    20% {\n",
              "      border-color: transparent;\n",
              "      border-left-color: var(--fill-color);\n",
              "      border-top-color: var(--fill-color);\n",
              "    }\n",
              "    30% {\n",
              "      border-color: transparent;\n",
              "      border-left-color: var(--fill-color);\n",
              "      border-top-color: var(--fill-color);\n",
              "      border-right-color: var(--fill-color);\n",
              "    }\n",
              "    40% {\n",
              "      border-color: transparent;\n",
              "      border-right-color: var(--fill-color);\n",
              "      border-top-color: var(--fill-color);\n",
              "    }\n",
              "    60% {\n",
              "      border-color: transparent;\n",
              "      border-right-color: var(--fill-color);\n",
              "    }\n",
              "    80% {\n",
              "      border-color: transparent;\n",
              "      border-right-color: var(--fill-color);\n",
              "      border-bottom-color: var(--fill-color);\n",
              "    }\n",
              "    90% {\n",
              "      border-color: transparent;\n",
              "      border-bottom-color: var(--fill-color);\n",
              "    }\n",
              "  }\n",
              "</style>\n",
              "\n",
              "  <script>\n",
              "    async function quickchart(key) {\n",
              "      const quickchartButtonEl =\n",
              "        document.querySelector('#' + key + ' button');\n",
              "      quickchartButtonEl.disabled = true;  // To prevent multiple clicks.\n",
              "      quickchartButtonEl.classList.add('colab-df-spinner');\n",
              "      try {\n",
              "        const charts = await google.colab.kernel.invokeFunction(\n",
              "            'suggestCharts', [key], {});\n",
              "      } catch (error) {\n",
              "        console.error('Error during call to suggestCharts:', error);\n",
              "      }\n",
              "      quickchartButtonEl.classList.remove('colab-df-spinner');\n",
              "      quickchartButtonEl.classList.add('colab-df-quickchart-complete');\n",
              "    }\n",
              "    (() => {\n",
              "      let quickchartButtonEl =\n",
              "        document.querySelector('#df-b10d422d-7310-4060-844c-07458e3c92a3 button');\n",
              "      quickchartButtonEl.style.display =\n",
              "        google.colab.kernel.accessAllowed ? 'block' : 'none';\n",
              "    })();\n",
              "  </script>\n",
              "</div>\n",
              "\n",
              "    </div>\n",
              "  </div>\n"
            ],
            "application/vnd.google.colaboratory.intrinsic+json": {
              "type": "dataframe",
              "variable_name": "df",
              "summary": "{\n  \"name\": \"df\",\n  \"rows\": 3444,\n  \"fields\": [\n    {\n      \"column\": \"Date\",\n      \"properties\": {\n        \"dtype\": \"date\",\n        \"min\": \"2010-10-13 00:00:00\",\n        \"max\": \"2024-06-20 00:00:00\",\n        \"num_unique_values\": 3444,\n        \"samples\": [\n          \"2017-09-20 00:00:00\",\n          \"2010-12-27 00:00:00\",\n          \"2018-11-23 00:00:00\"\n        ],\n        \"semantic_type\": \"\",\n        \"description\": \"\"\n      }\n    },\n    {\n      \"column\": \"Close\",\n      \"properties\": {\n        \"dtype\": \"number\",\n        \"std\": 57.12044791542593,\n        \"min\": 7.758500099182129,\n        \"max\": 189.5,\n        \"num_unique_values\": 3379,\n        \"samples\": [\n          10.923999786376953,\n          9.383999824523926,\n          12.355999946594238\n        ],\n        \"semantic_type\": \"\",\n        \"description\": \"\"\n      }\n    }\n  ]\n}"
            }
          },
          "metadata": {},
          "execution_count": 138
        }
      ]
    },
    {
      "cell_type": "code",
      "source": [
        "df.set_index('Date',inplace = True)"
      ],
      "metadata": {
        "id": "bqVmkUlylRvx"
      },
      "execution_count": 139,
      "outputs": []
    },
    {
      "cell_type": "code",
      "source": [
        "\n",
        "\n",
        "train = df.iloc[:156]\n",
        "test = df.iloc[156:]\n",
        ""
      ],
      "metadata": {
        "id": "G5ODdYG-yDr8"
      },
      "execution_count": 140,
      "outputs": []
    },
    {
      "cell_type": "code",
      "source": [
        "df = df.astype('float32')\n",
        "df"
      ],
      "metadata": {
        "colab": {
          "base_uri": "https://localhost:8080/",
          "height": 455
        },
        "id": "xaPkYFXYyf1z",
        "outputId": "1c0320bd-6912-4699-db93-b40c2c40ea08"
      },
      "execution_count": 141,
      "outputs": [
        {
          "output_type": "execute_result",
          "data": {
            "text/plain": [
              "                 Close\n",
              "Date                  \n",
              "2010-10-13    7.758500\n",
              "2010-10-14    7.776500\n",
              "2010-10-15    8.232000\n",
              "2010-10-18    8.178000\n",
              "2010-10-19    7.933500\n",
              "...                ...\n",
              "2024-06-13  183.830002\n",
              "2024-06-14  183.660004\n",
              "2024-06-17  184.059998\n",
              "2024-06-18  182.809998\n",
              "2024-06-20  186.100006\n",
              "\n",
              "[3444 rows x 1 columns]"
            ],
            "text/html": [
              "\n",
              "  <div id=\"df-c241d253-4f54-4400-95f6-46e924024ada\" class=\"colab-df-container\">\n",
              "    <div>\n",
              "<style scoped>\n",
              "    .dataframe tbody tr th:only-of-type {\n",
              "        vertical-align: middle;\n",
              "    }\n",
              "\n",
              "    .dataframe tbody tr th {\n",
              "        vertical-align: top;\n",
              "    }\n",
              "\n",
              "    .dataframe thead th {\n",
              "        text-align: right;\n",
              "    }\n",
              "</style>\n",
              "<table border=\"1\" class=\"dataframe\">\n",
              "  <thead>\n",
              "    <tr style=\"text-align: right;\">\n",
              "      <th></th>\n",
              "      <th>Close</th>\n",
              "    </tr>\n",
              "    <tr>\n",
              "      <th>Date</th>\n",
              "      <th></th>\n",
              "    </tr>\n",
              "  </thead>\n",
              "  <tbody>\n",
              "    <tr>\n",
              "      <th>2010-10-13</th>\n",
              "      <td>7.758500</td>\n",
              "    </tr>\n",
              "    <tr>\n",
              "      <th>2010-10-14</th>\n",
              "      <td>7.776500</td>\n",
              "    </tr>\n",
              "    <tr>\n",
              "      <th>2010-10-15</th>\n",
              "      <td>8.232000</td>\n",
              "    </tr>\n",
              "    <tr>\n",
              "      <th>2010-10-18</th>\n",
              "      <td>8.178000</td>\n",
              "    </tr>\n",
              "    <tr>\n",
              "      <th>2010-10-19</th>\n",
              "      <td>7.933500</td>\n",
              "    </tr>\n",
              "    <tr>\n",
              "      <th>...</th>\n",
              "      <td>...</td>\n",
              "    </tr>\n",
              "    <tr>\n",
              "      <th>2024-06-13</th>\n",
              "      <td>183.830002</td>\n",
              "    </tr>\n",
              "    <tr>\n",
              "      <th>2024-06-14</th>\n",
              "      <td>183.660004</td>\n",
              "    </tr>\n",
              "    <tr>\n",
              "      <th>2024-06-17</th>\n",
              "      <td>184.059998</td>\n",
              "    </tr>\n",
              "    <tr>\n",
              "      <th>2024-06-18</th>\n",
              "      <td>182.809998</td>\n",
              "    </tr>\n",
              "    <tr>\n",
              "      <th>2024-06-20</th>\n",
              "      <td>186.100006</td>\n",
              "    </tr>\n",
              "  </tbody>\n",
              "</table>\n",
              "<p>3444 rows × 1 columns</p>\n",
              "</div>\n",
              "    <div class=\"colab-df-buttons\">\n",
              "\n",
              "  <div class=\"colab-df-container\">\n",
              "    <button class=\"colab-df-convert\" onclick=\"convertToInteractive('df-c241d253-4f54-4400-95f6-46e924024ada')\"\n",
              "            title=\"Convert this dataframe to an interactive table.\"\n",
              "            style=\"display:none;\">\n",
              "\n",
              "  <svg xmlns=\"http://www.w3.org/2000/svg\" height=\"24px\" viewBox=\"0 -960 960 960\">\n",
              "    <path d=\"M120-120v-720h720v720H120Zm60-500h600v-160H180v160Zm220 220h160v-160H400v160Zm0 220h160v-160H400v160ZM180-400h160v-160H180v160Zm440 0h160v-160H620v160ZM180-180h160v-160H180v160Zm440 0h160v-160H620v160Z\"/>\n",
              "  </svg>\n",
              "    </button>\n",
              "\n",
              "  <style>\n",
              "    .colab-df-container {\n",
              "      display:flex;\n",
              "      gap: 12px;\n",
              "    }\n",
              "\n",
              "    .colab-df-convert {\n",
              "      background-color: #E8F0FE;\n",
              "      border: none;\n",
              "      border-radius: 50%;\n",
              "      cursor: pointer;\n",
              "      display: none;\n",
              "      fill: #1967D2;\n",
              "      height: 32px;\n",
              "      padding: 0 0 0 0;\n",
              "      width: 32px;\n",
              "    }\n",
              "\n",
              "    .colab-df-convert:hover {\n",
              "      background-color: #E2EBFA;\n",
              "      box-shadow: 0px 1px 2px rgba(60, 64, 67, 0.3), 0px 1px 3px 1px rgba(60, 64, 67, 0.15);\n",
              "      fill: #174EA6;\n",
              "    }\n",
              "\n",
              "    .colab-df-buttons div {\n",
              "      margin-bottom: 4px;\n",
              "    }\n",
              "\n",
              "    [theme=dark] .colab-df-convert {\n",
              "      background-color: #3B4455;\n",
              "      fill: #D2E3FC;\n",
              "    }\n",
              "\n",
              "    [theme=dark] .colab-df-convert:hover {\n",
              "      background-color: #434B5C;\n",
              "      box-shadow: 0px 1px 3px 1px rgba(0, 0, 0, 0.15);\n",
              "      filter: drop-shadow(0px 1px 2px rgba(0, 0, 0, 0.3));\n",
              "      fill: #FFFFFF;\n",
              "    }\n",
              "  </style>\n",
              "\n",
              "    <script>\n",
              "      const buttonEl =\n",
              "        document.querySelector('#df-c241d253-4f54-4400-95f6-46e924024ada button.colab-df-convert');\n",
              "      buttonEl.style.display =\n",
              "        google.colab.kernel.accessAllowed ? 'block' : 'none';\n",
              "\n",
              "      async function convertToInteractive(key) {\n",
              "        const element = document.querySelector('#df-c241d253-4f54-4400-95f6-46e924024ada');\n",
              "        const dataTable =\n",
              "          await google.colab.kernel.invokeFunction('convertToInteractive',\n",
              "                                                    [key], {});\n",
              "        if (!dataTable) return;\n",
              "\n",
              "        const docLinkHtml = 'Like what you see? Visit the ' +\n",
              "          '<a target=\"_blank\" href=https://colab.research.google.com/notebooks/data_table.ipynb>data table notebook</a>'\n",
              "          + ' to learn more about interactive tables.';\n",
              "        element.innerHTML = '';\n",
              "        dataTable['output_type'] = 'display_data';\n",
              "        await google.colab.output.renderOutput(dataTable, element);\n",
              "        const docLink = document.createElement('div');\n",
              "        docLink.innerHTML = docLinkHtml;\n",
              "        element.appendChild(docLink);\n",
              "      }\n",
              "    </script>\n",
              "  </div>\n",
              "\n",
              "\n",
              "<div id=\"df-19a33478-17a4-41fa-9f49-5fe0e3706753\">\n",
              "  <button class=\"colab-df-quickchart\" onclick=\"quickchart('df-19a33478-17a4-41fa-9f49-5fe0e3706753')\"\n",
              "            title=\"Suggest charts\"\n",
              "            style=\"display:none;\">\n",
              "\n",
              "<svg xmlns=\"http://www.w3.org/2000/svg\" height=\"24px\"viewBox=\"0 0 24 24\"\n",
              "     width=\"24px\">\n",
              "    <g>\n",
              "        <path d=\"M19 3H5c-1.1 0-2 .9-2 2v14c0 1.1.9 2 2 2h14c1.1 0 2-.9 2-2V5c0-1.1-.9-2-2-2zM9 17H7v-7h2v7zm4 0h-2V7h2v10zm4 0h-2v-4h2v4z\"/>\n",
              "    </g>\n",
              "</svg>\n",
              "  </button>\n",
              "\n",
              "<style>\n",
              "  .colab-df-quickchart {\n",
              "      --bg-color: #E8F0FE;\n",
              "      --fill-color: #1967D2;\n",
              "      --hover-bg-color: #E2EBFA;\n",
              "      --hover-fill-color: #174EA6;\n",
              "      --disabled-fill-color: #AAA;\n",
              "      --disabled-bg-color: #DDD;\n",
              "  }\n",
              "\n",
              "  [theme=dark] .colab-df-quickchart {\n",
              "      --bg-color: #3B4455;\n",
              "      --fill-color: #D2E3FC;\n",
              "      --hover-bg-color: #434B5C;\n",
              "      --hover-fill-color: #FFFFFF;\n",
              "      --disabled-bg-color: #3B4455;\n",
              "      --disabled-fill-color: #666;\n",
              "  }\n",
              "\n",
              "  .colab-df-quickchart {\n",
              "    background-color: var(--bg-color);\n",
              "    border: none;\n",
              "    border-radius: 50%;\n",
              "    cursor: pointer;\n",
              "    display: none;\n",
              "    fill: var(--fill-color);\n",
              "    height: 32px;\n",
              "    padding: 0;\n",
              "    width: 32px;\n",
              "  }\n",
              "\n",
              "  .colab-df-quickchart:hover {\n",
              "    background-color: var(--hover-bg-color);\n",
              "    box-shadow: 0 1px 2px rgba(60, 64, 67, 0.3), 0 1px 3px 1px rgba(60, 64, 67, 0.15);\n",
              "    fill: var(--button-hover-fill-color);\n",
              "  }\n",
              "\n",
              "  .colab-df-quickchart-complete:disabled,\n",
              "  .colab-df-quickchart-complete:disabled:hover {\n",
              "    background-color: var(--disabled-bg-color);\n",
              "    fill: var(--disabled-fill-color);\n",
              "    box-shadow: none;\n",
              "  }\n",
              "\n",
              "  .colab-df-spinner {\n",
              "    border: 2px solid var(--fill-color);\n",
              "    border-color: transparent;\n",
              "    border-bottom-color: var(--fill-color);\n",
              "    animation:\n",
              "      spin 1s steps(1) infinite;\n",
              "  }\n",
              "\n",
              "  @keyframes spin {\n",
              "    0% {\n",
              "      border-color: transparent;\n",
              "      border-bottom-color: var(--fill-color);\n",
              "      border-left-color: var(--fill-color);\n",
              "    }\n",
              "    20% {\n",
              "      border-color: transparent;\n",
              "      border-left-color: var(--fill-color);\n",
              "      border-top-color: var(--fill-color);\n",
              "    }\n",
              "    30% {\n",
              "      border-color: transparent;\n",
              "      border-left-color: var(--fill-color);\n",
              "      border-top-color: var(--fill-color);\n",
              "      border-right-color: var(--fill-color);\n",
              "    }\n",
              "    40% {\n",
              "      border-color: transparent;\n",
              "      border-right-color: var(--fill-color);\n",
              "      border-top-color: var(--fill-color);\n",
              "    }\n",
              "    60% {\n",
              "      border-color: transparent;\n",
              "      border-right-color: var(--fill-color);\n",
              "    }\n",
              "    80% {\n",
              "      border-color: transparent;\n",
              "      border-right-color: var(--fill-color);\n",
              "      border-bottom-color: var(--fill-color);\n",
              "    }\n",
              "    90% {\n",
              "      border-color: transparent;\n",
              "      border-bottom-color: var(--fill-color);\n",
              "    }\n",
              "  }\n",
              "</style>\n",
              "\n",
              "  <script>\n",
              "    async function quickchart(key) {\n",
              "      const quickchartButtonEl =\n",
              "        document.querySelector('#' + key + ' button');\n",
              "      quickchartButtonEl.disabled = true;  // To prevent multiple clicks.\n",
              "      quickchartButtonEl.classList.add('colab-df-spinner');\n",
              "      try {\n",
              "        const charts = await google.colab.kernel.invokeFunction(\n",
              "            'suggestCharts', [key], {});\n",
              "      } catch (error) {\n",
              "        console.error('Error during call to suggestCharts:', error);\n",
              "      }\n",
              "      quickchartButtonEl.classList.remove('colab-df-spinner');\n",
              "      quickchartButtonEl.classList.add('colab-df-quickchart-complete');\n",
              "    }\n",
              "    (() => {\n",
              "      let quickchartButtonEl =\n",
              "        document.querySelector('#df-19a33478-17a4-41fa-9f49-5fe0e3706753 button');\n",
              "      quickchartButtonEl.style.display =\n",
              "        google.colab.kernel.accessAllowed ? 'block' : 'none';\n",
              "    })();\n",
              "  </script>\n",
              "</div>\n",
              "\n",
              "  <div id=\"id_c80d2ee0-86a5-4849-8d56-b9e881e7b01b\">\n",
              "    <style>\n",
              "      .colab-df-generate {\n",
              "        background-color: #E8F0FE;\n",
              "        border: none;\n",
              "        border-radius: 50%;\n",
              "        cursor: pointer;\n",
              "        display: none;\n",
              "        fill: #1967D2;\n",
              "        height: 32px;\n",
              "        padding: 0 0 0 0;\n",
              "        width: 32px;\n",
              "      }\n",
              "\n",
              "      .colab-df-generate:hover {\n",
              "        background-color: #E2EBFA;\n",
              "        box-shadow: 0px 1px 2px rgba(60, 64, 67, 0.3), 0px 1px 3px 1px rgba(60, 64, 67, 0.15);\n",
              "        fill: #174EA6;\n",
              "      }\n",
              "\n",
              "      [theme=dark] .colab-df-generate {\n",
              "        background-color: #3B4455;\n",
              "        fill: #D2E3FC;\n",
              "      }\n",
              "\n",
              "      [theme=dark] .colab-df-generate:hover {\n",
              "        background-color: #434B5C;\n",
              "        box-shadow: 0px 1px 3px 1px rgba(0, 0, 0, 0.15);\n",
              "        filter: drop-shadow(0px 1px 2px rgba(0, 0, 0, 0.3));\n",
              "        fill: #FFFFFF;\n",
              "      }\n",
              "    </style>\n",
              "    <button class=\"colab-df-generate\" onclick=\"generateWithVariable('df')\"\n",
              "            title=\"Generate code using this dataframe.\"\n",
              "            style=\"display:none;\">\n",
              "\n",
              "  <svg xmlns=\"http://www.w3.org/2000/svg\" height=\"24px\"viewBox=\"0 0 24 24\"\n",
              "       width=\"24px\">\n",
              "    <path d=\"M7,19H8.4L18.45,9,17,7.55,7,17.6ZM5,21V16.75L18.45,3.32a2,2,0,0,1,2.83,0l1.4,1.43a1.91,1.91,0,0,1,.58,1.4,1.91,1.91,0,0,1-.58,1.4L9.25,21ZM18.45,9,17,7.55Zm-12,3A5.31,5.31,0,0,0,4.9,8.1,5.31,5.31,0,0,0,1,6.5,5.31,5.31,0,0,0,4.9,4.9,5.31,5.31,0,0,0,6.5,1,5.31,5.31,0,0,0,8.1,4.9,5.31,5.31,0,0,0,12,6.5,5.46,5.46,0,0,0,6.5,12Z\"/>\n",
              "  </svg>\n",
              "    </button>\n",
              "    <script>\n",
              "      (() => {\n",
              "      const buttonEl =\n",
              "        document.querySelector('#id_c80d2ee0-86a5-4849-8d56-b9e881e7b01b button.colab-df-generate');\n",
              "      buttonEl.style.display =\n",
              "        google.colab.kernel.accessAllowed ? 'block' : 'none';\n",
              "\n",
              "      buttonEl.onclick = () => {\n",
              "        google.colab.notebook.generateWithVariable('df');\n",
              "      }\n",
              "      })();\n",
              "    </script>\n",
              "  </div>\n",
              "\n",
              "    </div>\n",
              "  </div>\n"
            ],
            "application/vnd.google.colaboratory.intrinsic+json": {
              "type": "dataframe",
              "variable_name": "df",
              "summary": "{\n  \"name\": \"df\",\n  \"rows\": 3444,\n  \"fields\": [\n    {\n      \"column\": \"Date\",\n      \"properties\": {\n        \"dtype\": \"date\",\n        \"min\": \"2010-10-13 00:00:00\",\n        \"max\": \"2024-06-20 00:00:00\",\n        \"num_unique_values\": 3444,\n        \"samples\": [\n          \"2017-09-20 00:00:00\",\n          \"2010-12-27 00:00:00\",\n          \"2018-11-23 00:00:00\"\n        ],\n        \"semantic_type\": \"\",\n        \"description\": \"\"\n      }\n    },\n    {\n      \"column\": \"Close\",\n      \"properties\": {\n        \"dtype\": \"float32\",\n        \"num_unique_values\": 3379,\n        \"samples\": [\n          10.923999786376953,\n          9.383999824523926,\n          12.355999946594238\n        ],\n        \"semantic_type\": \"\",\n        \"description\": \"\"\n      }\n    }\n  ]\n}"
            }
          },
          "metadata": {},
          "execution_count": 141
        }
      ]
    },
    {
      "cell_type": "code",
      "source": [
        "timesteps = df.index.to_numpy()\n",
        "prices = df[\"Close\"].to_numpy()\n",
        "\n",
        "timesteps[:10], prices[:10]"
      ],
      "metadata": {
        "colab": {
          "base_uri": "https://localhost:8080/"
        },
        "id": "zU6xCGw7I6g_",
        "outputId": "406f6bb5-2033-4e54-ab1d-1609d7d16c91"
      },
      "execution_count": 142,
      "outputs": [
        {
          "output_type": "execute_result",
          "data": {
            "text/plain": [
              "(array(['2010-10-13T00:00:00.000000000', '2010-10-14T00:00:00.000000000',\n",
              "        '2010-10-15T00:00:00.000000000', '2010-10-18T00:00:00.000000000',\n",
              "        '2010-10-19T00:00:00.000000000', '2010-10-20T00:00:00.000000000',\n",
              "        '2010-10-21T00:00:00.000000000', '2010-10-22T00:00:00.000000000',\n",
              "        '2010-10-25T00:00:00.000000000', '2010-10-26T00:00:00.000000000'],\n",
              "       dtype='datetime64[ns]'),\n",
              " array([7.7585, 7.7765, 8.232 , 8.178 , 7.9335, 7.9335, 8.2485, 8.4565,\n",
              "        8.45  , 8.4975], dtype=float32))"
            ]
          },
          "metadata": {},
          "execution_count": 142
        }
      ]
    },
    {
      "cell_type": "code",
      "source": [
        "# Create train and test splits the right way for time series data\n",
        "split_size = int(0.8 * len(prices)) # 80% train, 20% test - you can change these values as needed, e.g. 90/10, 95/5\n",
        "\n",
        "# Create train data splits (everything before the split)\n",
        "X_train, y_train = timesteps[:split_size], prices[:split_size]\n",
        "\n",
        "# Create test data splits (everything beyond the split)\n",
        "X_test, y_test = timesteps[split_size:], prices[split_size:]\n",
        "\n",
        "len(X_train), len(X_test), len(y_train), len(y_test)"
      ],
      "metadata": {
        "colab": {
          "base_uri": "https://localhost:8080/"
        },
        "id": "mxRvhF3wJw5i",
        "outputId": "a2728aed-b846-4643-a99f-ffc4ffd5a440"
      },
      "execution_count": 143,
      "outputs": [
        {
          "output_type": "execute_result",
          "data": {
            "text/plain": [
              "(2755, 689, 2755, 689)"
            ]
          },
          "metadata": {},
          "execution_count": 143
        }
      ]
    },
    {
      "cell_type": "code",
      "source": [
        "import matplotlib.pyplot as plt\n",
        "\n",
        "# Create a function to plot time series data\n",
        "def plot_time_series(timesteps, values, format=\".\", start=0, end=None, label=None):\n",
        "  # Plot the series\n",
        "  plt.plot(timesteps[start:end], values[start:end], format, label=label)\n",
        "  plt.xlabel(\"Time\")\n",
        "  plt.ylabel(\" Price\")\n",
        "  if label:\n",
        "    plt.legend(fontsize=14) # make label bigger\n",
        "  plt.grid(True)"
      ],
      "metadata": {
        "id": "wMmyIcWNJw9z"
      },
      "execution_count": 144,
      "outputs": []
    },
    {
      "cell_type": "code",
      "source": [
        "# Test out plotting function\n",
        "plt.figure(figsize=(15, 7))\n",
        "plot_time_series(timesteps=X_train, values=y_train, label=\"Train data\")\n",
        "plot_time_series(timesteps=X_test, values=y_test, label=\"Test data\")"
      ],
      "metadata": {
        "colab": {
          "base_uri": "https://localhost:8080/",
          "height": 325
        },
        "id": "vbJlkUMtJxC5",
        "outputId": "63dd94d4-2ade-4d8a-e653-4f797b3552fd"
      },
      "execution_count": 145,
      "outputs": [
        {
          "output_type": "display_data",
          "data": {
            "text/plain": [
              "<Figure size 1500x700 with 1 Axes>"
            ],
            "image/png": "[encoded data removed]"
          },
          "metadata": {}
        }
      ]
    },
    {
      "cell_type": "code",
      "source": [
        "# Pencere ve ufuk boyutu için global değişkenler ayarlayalım\n",
        "HORIZON = 1 # gelecek 1 günü tahmin et\n",
        "WINDOW_SIZE = 60 # tahminde bulunmak için geçen 60 günün  verilerini kullanın"
      ],
      "metadata": {
        "id": "FeZ5i-bLJxHk"
      },
      "execution_count": 247,
      "outputs": []
    },
    {
      "cell_type": "code",
      "source": [
        "# Create function to label windowed data\n",
        "def get_labelled_windows(x, horizon=HORIZON):\n",
        "\n",
        "  return x[:, :-horizon], x[:, -horizon:]"
      ],
      "metadata": {
        "id": "OgALZAH4JxMA"
      },
      "execution_count": 210,
      "outputs": []
    },
    {
      "cell_type": "code",
      "source": [
        "# verilerimizle ne yapmak istiyoruz\n",
        "print(f\"Kullanmak istiyoruz: {df_price[:7]} bunu tahmin etmek: {df_price[7]}\")"
      ],
      "metadata": {
        "colab": {
          "base_uri": "https://localhost:8080/"
        },
        "id": "Xt55vu6WJxP4",
        "outputId": "c1491a2f-a9d8-42ff-fe00-56512e4259ca"
      },
      "execution_count": 211,
      "outputs": [
        {
          "output_type": "stream",
          "name": "stdout",
          "text": [
            "Kullanmak istiyoruz: [7.834499835968018, 7.757999897003174, 7.921000003814697, 8.25, 8.034000396728516, 7.939000129699707, 8.133500099182129] bunu tahmin etmek: 8.1225004196167\n"
          ]
        }
      ]
    },
    {
      "cell_type": "code",
      "source": [
        "# Pencere etiketleme fonksiyonunu test edin\n",
        "test_window, test_label = get_labelled_windows(tf.expand_dims(tf.range(8), axis=0))\n",
        "print(f\"Window: {tf.squeeze(test_window).numpy()} -> Label: {tf.squeeze(test_label).numpy()}\")"
      ],
      "metadata": {
        "colab": {
          "base_uri": "https://localhost:8080/"
        },
        "id": "okaA4MxAKavE",
        "outputId": "3cb9f8cc-9efc-4f8f-b84c-eaa059852d71"
      },
      "execution_count": 212,
      "outputs": [
        {
          "output_type": "stream",
          "name": "stdout",
          "text": [
            "Window: [0 1 2 3 4 5 6] -> Label: 7\n"
          ]
        }
      ]
    },
    {
      "cell_type": "code",
      "source": [
        "def make_windows(x, window_size=WINDOW_SIZE, horizon=HORIZON):\n",
        "    \"\"\"\n",
        "    1D dizisini, window_size ve horizon boyutunda etiketlenmiş ardışık pencerelerden oluşan 2D diziye dönüştürür.\n",
        "    \"\"\"\n",
        "    # 1. Belirli window_size bir pencere oluşturun (etiketleme için horizon ekleyin)\n",
        "    window_step = np.expand_dims(np.arange(window_size + horizon), axis=0)\n",
        "    # window_step: Pencerenin her bir adımı için indeksleri içeren bir dizi oluşturur. `np.expand_dims` kullanarak bu diziyi iki boyutlu hale getirir.\n",
        "\n",
        "    # 2. Birden fazla pencere adımı içeren 2D bir dizi oluşturun (0 indekslemeyi hesaba katmak için 1 çıkarın)\n",
        "    window_indexes = window_step + np.expand_dims(np.arange(len(x) - (window_size + horizon - 1)), axis=0).T\n",
        "    # window_indexes: `window_step` dizisini giriş dizisinin her bir adımıyla kaydırarak pencere indekslerini oluşturur. Bu, her bir pencerenin başlangıç noktalarını belirler.\n",
        "\n",
        "    # 3. Hedef diziden (bir zaman serisi) birden fazla pencere adımı içeren 2D diziyi indeksleyin\n",
        "    windowed_array = x[window_indexes]\n",
        "    # windowed_array: Giriş dizisinden pencere indekslerini kullanarak veriyi çıkarır ve 2D bir pencere dizisi oluşturur.\n",
        "\n",
        "    # 4. Etiketlenmiş pencereleri alın\n",
        "    windows, labels = get_labelled_windows(windowed_array, horizon=horizon)\n",
        "    return windows, labels\n",
        "    # windows, labels: `get_labelled_windows` fonksiyonunu kullanarak pencereleri ve etiketlerini oluşturur ve döndürür.\n"
      ],
      "metadata": {
        "id": "qNX0-fHZKa0h"
      },
      "execution_count": 213,
      "outputs": []
    },
    {
      "cell_type": "code",
      "source": [
        "# Prices dizisinden tam pencereler ve etiketler oluşturun\n",
        "full_windows, full_labels = make_windows(prices, window_size=WINDOW_SIZE, horizon=HORIZON)\n",
        "print(f\"Pencere sayısı: {len(full_windows)}, Etiket sayısı: {len(full_labels)}\")\n"
      ],
      "metadata": {
        "colab": {
          "base_uri": "https://localhost:8080/"
        },
        "id": "6sVbwboeL1Ve",
        "outputId": "98639b1b-5e72-43d6-b42a-e4bd1c9ee6c5"
      },
      "execution_count": 214,
      "outputs": [
        {
          "output_type": "stream",
          "name": "stdout",
          "text": [
            "Pencere sayısı: 3384, Etiket sayısı: 3384\n"
          ]
        }
      ]
    },
    {
      "cell_type": "code",
      "source": [
        "# İlk 3 pencere/etiketi görüntüleyin\n",
        "for i in range(3):\n",
        "    print(f\"Pencere: {full_windows[i]} -> Etiket: {full_labels[i]}\")\n"
      ],
      "metadata": {
        "colab": {
          "base_uri": "https://localhost:8080/"
        },
        "id": "hSG0hXASL1Z4",
        "outputId": "b693a8fa-e822-4bc5-d961-334a6f918efd"
      },
      "execution_count": 215,
      "outputs": [
        {
          "output_type": "stream",
          "name": "stdout",
          "text": [
            "Pencere: [7.7585 7.7765 8.232  8.178  7.9335 7.9335 8.2485 8.4565 8.45   8.4975\n",
            " 8.3755 8.342  8.2615 8.129  8.2305 8.4235 8.4465 8.5385 8.5995 8.5135\n",
            " 8.6665 8.5185 8.284  7.945  7.889  7.9175 8.2085 8.241  8.5195 8.41\n",
            " 8.8625 8.86   8.9745 8.77   8.8275 8.8265 8.784  8.9025 8.8385 8.8145\n",
            " 8.7425 8.781  8.7125 8.697  8.7785 8.902  8.879  9.1645 9.2375 9.238\n",
            " 9.1295 9.107  9.0545 9.1685 9.1375 9.     9.211  9.2505 9.371  9.293 ] -> Etiket: [9.2745]\n",
            "Pencere: [7.7765 8.232  8.178  7.9335 7.9335 8.2485 8.4565 8.45   8.4975 8.3755\n",
            " 8.342  8.2615 8.129  8.2305 8.4235 8.4465 8.5385 8.5995 8.5135 8.6665\n",
            " 8.5185 8.284  7.945  7.889  7.9175 8.2085 8.241  8.5195 8.41   8.8625\n",
            " 8.86   8.9745 8.77   8.8275 8.8265 8.784  8.9025 8.8385 8.8145 8.7425\n",
            " 8.781  8.7125 8.697  8.7785 8.902  8.879  9.1645 9.2375 9.238  9.1295\n",
            " 9.107  9.0545 9.1685 9.1375 9.     9.211  9.2505 9.371  9.293  9.2745] -> Etiket: [9.234]\n",
            "Pencere: [8.232  8.178  7.9335 7.9335 8.2485 8.4565 8.45   8.4975 8.3755 8.342\n",
            " 8.2615 8.129  8.2305 8.4235 8.4465 8.5385 8.5995 8.5135 8.6665 8.5185\n",
            " 8.284  7.945  7.889  7.9175 8.2085 8.241  8.5195 8.41   8.8625 8.86\n",
            " 8.9745 8.77   8.8275 8.8265 8.784  8.9025 8.8385 8.8145 8.7425 8.781\n",
            " 8.7125 8.697  8.7785 8.902  8.879  9.1645 9.2375 9.238  9.1295 9.107\n",
            " 9.0545 9.1685 9.1375 9.     9.211  9.2505 9.371  9.293  9.2745 9.234 ] -> Etiket: [9.217]\n"
          ]
        }
      ]
    },
    {
      "cell_type": "code",
      "source": [
        "# Pencereleri ve etiketleri eğitim ve test setlerine ayırmak için bir fonksiyon oluşturun\n",
        "def make_train_test_splits(windows, labels, test_split=0.2):\n",
        "    \"\"\"\n",
        "    Eşleşen pencere ve etiket çiftlerini eğitim ve test setlerine ayırır.\n",
        "    \"\"\"\n",
        "    split_size = int(len(windows) * (1 - test_split))  # Bu, varsayılan olarak %80 eğitim/%20 test olarak ayarlanır\n",
        "    train_windows = windows[:split_size]\n",
        "    train_labels = labels[:split_size]\n",
        "    test_windows = windows[split_size:]\n",
        "    test_labels = labels[split_size:]\n",
        "    return train_windows, test_windows, train_labels, test_labels\n",
        "    # train_windows, train_labels, test_windows, test_labels: Pencere ve etiketleri belirtilen oranda (varsayılan %80 eğitim, %20 test) eğitim ve test setlerine ayırır ve döndürür.\n"
      ],
      "metadata": {
        "id": "OnVKvksqL1eX"
      },
      "execution_count": 216,
      "outputs": []
    },
    {
      "cell_type": "code",
      "source": [
        "# Eğitim ve test pencereleri oluşturun\n",
        "train_windows, test_windows, train_labels, test_labels = make_train_test_splits(full_windows, full_labels)\n",
        "print(f\"Eğitim pencereleri: {len(train_windows)}, Test pencereleri: {len(test_windows)}\")\n",
        "print(f\"Eğitim etiketleri: {len(train_labels)}, Test etiketleri: {len(test_labels)}\")\n"
      ],
      "metadata": {
        "colab": {
          "base_uri": "https://localhost:8080/"
        },
        "id": "xwsR0FD2MFzU",
        "outputId": "40bceb8d-9de2-4508-88f5-84e11be305e4"
      },
      "execution_count": 217,
      "outputs": [
        {
          "output_type": "stream",
          "name": "stdout",
          "text": [
            "Eğitim pencereleri: 2707, Test pencereleri: 677\n",
            "Eğitim etiketleri: 2707, Test etiketleri: 677\n"
          ]
        }
      ]
    },
    {
      "cell_type": "code",
      "source": [
        "# İlk 5 eğitim penceresi ve etiketini incelemek için yazdırın\n",
        "print(train_windows[:5], train_labels[:5])\n"
      ],
      "metadata": {
        "colab": {
          "base_uri": "https://localhost:8080/"
        },
        "id": "K7wSDVHtL1ip",
        "outputId": "9e0ab170-aee6-4ce0-91ad-e86b1d0463a0"
      },
      "execution_count": 219,
      "outputs": [
        {
          "output_type": "stream",
          "name": "stdout",
          "text": [
            "[[7.7585 7.7765 8.232  8.178  7.9335 7.9335 8.2485 8.4565 8.45   8.4975\n",
            "  8.3755 8.342  8.2615 8.129  8.2305 8.4235 8.4465 8.5385 8.5995 8.5135\n",
            "  8.6665 8.5185 8.284  7.945  7.889  7.9175 8.2085 8.241  8.5195 8.41\n",
            "  8.8625 8.86   8.9745 8.77   8.8275 8.8265 8.784  8.9025 8.8385 8.8145\n",
            "  8.7425 8.781  8.7125 8.697  8.7785 8.902  8.879  9.1645 9.2375 9.238\n",
            "  9.1295 9.107  9.0545 9.1685 9.1375 9.     9.211  9.2505 9.371  9.293 ]\n",
            " [7.7765 8.232  8.178  7.9335 7.9335 8.2485 8.4565 8.45   8.4975 8.3755\n",
            "  8.342  8.2615 8.129  8.2305 8.4235 8.4465 8.5385 8.5995 8.5135 8.6665\n",
            "  8.5185 8.284  7.945  7.889  7.9175 8.2085 8.241  8.5195 8.41   8.8625\n",
            "  8.86   8.9745 8.77   8.8275 8.8265 8.784  8.9025 8.8385 8.8145 8.7425\n",
            "  8.781  8.7125 8.697  8.7785 8.902  8.879  9.1645 9.2375 9.238  9.1295\n",
            "  9.107  9.0545 9.1685 9.1375 9.     9.211  9.2505 9.371  9.293  9.2745]\n",
            " [8.232  8.178  7.9335 7.9335 8.2485 8.4565 8.45   8.4975 8.3755 8.342\n",
            "  8.2615 8.129  8.2305 8.4235 8.4465 8.5385 8.5995 8.5135 8.6665 8.5185\n",
            "  8.284  7.945  7.889  7.9175 8.2085 8.241  8.5195 8.41   8.8625 8.86\n",
            "  8.9745 8.77   8.8275 8.8265 8.784  8.9025 8.8385 8.8145 8.7425 8.781\n",
            "  8.7125 8.697  8.7785 8.902  8.879  9.1645 9.2375 9.238  9.1295 9.107\n",
            "  9.0545 9.1685 9.1375 9.     9.211  9.2505 9.371  9.293  9.2745 9.234 ]\n",
            " [8.178  7.9335 7.9335 8.2485 8.4565 8.45   8.4975 8.3755 8.342  8.2615\n",
            "  8.129  8.2305 8.4235 8.4465 8.5385 8.5995 8.5135 8.6665 8.5185 8.284\n",
            "  7.945  7.889  7.9175 8.2085 8.241  8.5195 8.41   8.8625 8.86   8.9745\n",
            "  8.77   8.8275 8.8265 8.784  8.9025 8.8385 8.8145 8.7425 8.781  8.7125\n",
            "  8.697  8.7785 8.902  8.879  9.1645 9.2375 9.238  9.1295 9.107  9.0545\n",
            "  9.1685 9.1375 9.     9.211  9.2505 9.371  9.293  9.2745 9.234  9.217 ]\n",
            " [7.9335 7.9335 8.2485 8.4565 8.45   8.4975 8.3755 8.342  8.2615 8.129\n",
            "  8.2305 8.4235 8.4465 8.5385 8.5995 8.5135 8.6665 8.5185 8.284  7.945\n",
            "  7.889  7.9175 8.2085 8.241  8.5195 8.41   8.8625 8.86   8.9745 8.77\n",
            "  8.8275 8.8265 8.784  8.9025 8.8385 8.8145 8.7425 8.781  8.7125 8.697\n",
            "  8.7785 8.902  8.879  9.1645 9.2375 9.238  9.1295 9.107  9.0545 9.1685\n",
            "  9.1375 9.     9.211  9.2505 9.371  9.293  9.2745 9.234  9.217  9.204 ]] [[9.2745]\n",
            " [9.234 ]\n",
            " [9.217 ]\n",
            " [9.204 ]\n",
            " [9.2765]]\n"
          ]
        }
      ]
    },
    {
      "cell_type": "code",
      "source": [
        "test_windows[:5], test_labels[:5]"
      ],
      "metadata": {
        "colab": {
          "base_uri": "https://localhost:8080/"
        },
        "id": "h4si0aXFL1oA",
        "outputId": "72598743-d355-4188-eccb-4001a65e789d"
      },
      "execution_count": 220,
      "outputs": [
        {
          "output_type": "execute_result",
          "data": {
            "text/plain": [
              "(array([[178.6815, 177.4795, 178.6595, 179.26  , 181.9015, 182.832 ,\n",
              "         184.991 , 181.3195, 181.516 , 179.996 , 166.3795, 166.574 ,\n",
              "         168.312 , 167.736 , 168.7995, 167.247 , 167.0935, 166.034 ,\n",
              "         164.6055, 165.175 , 164.6985, 164.9495, 162.098 , 160.061 ,\n",
              "         159.3875, 159.9975, 163.2935, 165.289 , 164.959 , 165.8   ,\n",
              "         167.4815, 171.0785, 173.5395, 173.95  , 173.156 , 173.9025,\n",
              "         175.4645, 176.275 , 174.208 , 173.4575, 172.8585, 172.5   ,\n",
              "         173.7895, 174.412 , 173.126 , 167.7865, 167.1815, 169.0025,\n",
              "         170.8   , 171.276 , 170.29  , 165.798 , 165.056 , 164.252 ,\n",
              "         164.163 , 159.489 , 161.05  , 163.1005, 165.1215, 164.431 ],\n",
              "        [177.4795, 178.6595, 179.26  , 181.9015, 182.832 , 184.991 ,\n",
              "         181.3195, 181.516 , 179.996 , 166.3795, 166.574 , 168.312 ,\n",
              "         167.736 , 168.7995, 167.247 , 167.0935, 166.034 , 164.6055,\n",
              "         165.175 , 164.6985, 164.9495, 162.098 , 160.061 , 159.3875,\n",
              "         159.9975, 163.2935, 165.289 , 164.959 , 165.8   , 167.4815,\n",
              "         171.0785, 173.5395, 173.95  , 173.156 , 173.9025, 175.4645,\n",
              "         176.275 , 174.208 , 173.4575, 172.8585, 172.5   , 173.7895,\n",
              "         174.412 , 173.126 , 167.7865, 167.1815, 169.0025, 170.8   ,\n",
              "         171.276 , 170.29  , 165.798 , 165.056 , 164.252 , 164.163 ,\n",
              "         159.489 , 161.05  , 163.1005, 165.1215, 164.431 , 162.315 ],\n",
              "        [178.6595, 179.26  , 181.9015, 182.832 , 184.991 , 181.3195,\n",
              "         181.516 , 179.996 , 166.3795, 166.574 , 168.312 , 167.736 ,\n",
              "         168.7995, 167.247 , 167.0935, 166.034 , 164.6055, 165.175 ,\n",
              "         164.6985, 164.9495, 162.098 , 160.061 , 159.3875, 159.9975,\n",
              "         163.2935, 165.289 , 164.959 , 165.8   , 167.4815, 171.0785,\n",
              "         173.5395, 173.95  , 173.156 , 173.9025, 175.4645, 176.275 ,\n",
              "         174.208 , 173.4575, 172.8585, 172.5   , 173.7895, 174.412 ,\n",
              "         173.126 , 167.7865, 167.1815, 169.0025, 170.8   , 171.276 ,\n",
              "         170.29  , 165.798 , 165.056 , 164.252 , 164.163 , 159.489 ,\n",
              "         161.05  , 163.1005, 165.1215, 164.431 , 162.315 , 162.3665],\n",
              "        [179.26  , 181.9015, 182.832 , 184.991 , 181.3195, 181.516 ,\n",
              "         179.996 , 166.3795, 166.574 , 168.312 , 167.736 , 168.7995,\n",
              "         167.247 , 167.0935, 166.034 , 164.6055, 165.175 , 164.6985,\n",
              "         164.9495, 162.098 , 160.061 , 159.3875, 159.9975, 163.2935,\n",
              "         165.289 , 164.959 , 165.8   , 167.4815, 171.0785, 173.5395,\n",
              "         173.95  , 173.156 , 173.9025, 175.4645, 176.275 , 174.208 ,\n",
              "         173.4575, 172.8585, 172.5   , 173.7895, 174.412 , 173.126 ,\n",
              "         167.7865, 167.1815, 169.0025, 170.8   , 171.276 , 170.29  ,\n",
              "         165.798 , 165.056 , 164.252 , 164.163 , 159.489 , 161.05  ,\n",
              "         163.1005, 165.1215, 164.431 , 162.315 , 162.3665, 164.214 ],\n",
              "        [181.9015, 182.832 , 184.991 , 181.3195, 181.516 , 179.996 ,\n",
              "         166.3795, 166.574 , 168.312 , 167.736 , 168.7995, 167.247 ,\n",
              "         167.0935, 166.034 , 164.6055, 165.175 , 164.6985, 164.9495,\n",
              "         162.098 , 160.061 , 159.3875, 159.9975, 163.2935, 165.289 ,\n",
              "         164.959 , 165.8   , 167.4815, 171.0785, 173.5395, 173.95  ,\n",
              "         173.156 , 173.9025, 175.4645, 176.275 , 174.208 , 173.4575,\n",
              "         172.8585, 172.5   , 173.7895, 174.412 , 173.126 , 167.7865,\n",
              "         167.1815, 169.0025, 170.8   , 171.276 , 170.29  , 165.798 ,\n",
              "         165.056 , 164.252 , 164.163 , 159.489 , 161.05  , 163.1005,\n",
              "         165.1215, 164.431 , 162.315 , 162.3665, 164.214 , 164.993 ]],\n",
              "       dtype=float32),\n",
              " array([[162.315 ],\n",
              "        [162.3665],\n",
              "        [164.214 ],\n",
              "        [164.993 ],\n",
              "        [170.451 ]], dtype=float32))"
            ]
          },
          "metadata": {},
          "execution_count": 220
        }
      ]
    },
    {
      "cell_type": "code",
      "source": [
        "# Belirli bir dosya adıyla ModelCheckpoint callback'ini uygulamak için bir fonksiyon oluşturun\n",
        "def create_model_checkpoint(model_name, save_path=\"model_experiments\"):\n",
        "    return tf.keras.callbacks.ModelCheckpoint(filepath=os.path.join(save_path, model_name),\n",
        "                                              monitor=\"val_loss\",\n",
        "                                              verbose=0,  # Sadece sınırlı miktarda metin çıktısı\n",
        "                                              save_best_only=True)\n"
      ],
      "metadata": {
        "id": "Joji2NK7MMkc"
      },
      "execution_count": 221,
      "outputs": []
    },
    {
      "cell_type": "code",
      "source": [
        "from keras.models import Sequential\n",
        "from tensorflow.keras import layers\n",
        "tf.random.set_seed(42)\n",
        "\n",
        "# Functional API ile bir LSTM modeli oluşturalım\n",
        "inputs = layers.Input(shape=(WINDOW_SIZE))\n",
        "x = layers.Lambda(lambda x: tf.expand_dims(x, axis=1))(inputs)\n",
        "# x = layers.LSTM(128, return_sequences=True)(x)\n",
        "x = layers.LSTM(300, activation=\"relu\")(x)\n",
        "x = layers.Dense(200, activation=\"relu\")(x)\n",
        "x = layers.Dense(150, activation=\"relu\")(x)\n",
        "x = layers.Dense(80, activation=\"relu\")(x)\n",
        "\n",
        "x = layers.Dense(32, activation=\"relu\")(x)\n",
        "output = layers.Dense(HORIZON)(x)\n",
        "model_1 = tf.keras.Model(inputs=inputs, outputs=output, name=\"model_1_LSTM\")\n",
        "\n",
        "\n",
        "# Compile\n",
        "model_1.compile(loss=\"mae\",\n",
        "                optimizer=tf.keras.optimizers.Adam())\n",
        "\n",
        "# Fit\n",
        "history = model_1.fit(train_windows,\n",
        "            train_labels,\n",
        "            epochs=50,\n",
        "            verbose=1,\n",
        "            batch_size=150,\n",
        "            validation_data=(test_windows, test_labels),\n",
        "            callbacks=[create_model_checkpoint(model_name=model_1.name)])"
      ],
      "metadata": {
        "colab": {
          "base_uri": "https://localhost:8080/"
        },
        "id": "Auh1H6OyMMqH",
        "outputId": "f1723f80-92eb-4e09-ca37-1ae4a706ddd6"
      },
      "execution_count": 222,
      "outputs": [
        {
          "output_type": "stream",
          "name": "stderr",
          "text": [
            "WARNING:tensorflow:Layer lstm_15 will not use cuDNN kernels since it doesn't meet the criteria. It will use a generic GPU kernel as fallback when running on GPU.\n"
          ]
        },
        {
          "output_type": "stream",
          "name": "stdout",
          "text": [
            "Epoch 1/50\n",
            "19/19 [==============================] - 8s 175ms/step - loss: 11.9941 - val_loss: 13.0124\n",
            "Epoch 2/50\n",
            "19/19 [==============================] - 0s 9ms/step - loss: 3.8530 - val_loss: 13.4704\n",
            "Epoch 3/50\n",
            "19/19 [==============================] - 2s 116ms/step - loss: 3.1538 - val_loss: 11.3296\n",
            "Epoch 4/50\n",
            "19/19 [==============================] - 2s 115ms/step - loss: 3.0822 - val_loss: 9.3620\n",
            "Epoch 5/50\n",
            "19/19 [==============================] - 0s 9ms/step - loss: 2.8523 - val_loss: 9.6215\n",
            "Epoch 6/50\n",
            "19/19 [==============================] - 2s 131ms/step - loss: 2.8349 - val_loss: 7.3546\n",
            "Epoch 7/50\n",
            "19/19 [==============================] - 3s 159ms/step - loss: 2.3957 - val_loss: 6.7861\n",
            "Epoch 8/50\n",
            "19/19 [==============================] - 0s 9ms/step - loss: 2.4839 - val_loss: 7.4773\n",
            "Epoch 9/50\n",
            "19/19 [==============================] - 0s 9ms/step - loss: 2.7285 - val_loss: 7.0899\n",
            "Epoch 10/50\n",
            "19/19 [==============================] - 0s 8ms/step - loss: 2.0111 - val_loss: 8.3305\n",
            "Epoch 11/50\n",
            "19/19 [==============================] - 2s 115ms/step - loss: 2.2999 - val_loss: 6.6630\n",
            "Epoch 12/50\n",
            "19/19 [==============================] - 0s 9ms/step - loss: 2.0223 - val_loss: 7.1546\n",
            "Epoch 13/50\n",
            "19/19 [==============================] - 0s 10ms/step - loss: 1.9111 - val_loss: 8.5926\n",
            "Epoch 14/50\n",
            "19/19 [==============================] - 3s 161ms/step - loss: 1.8837 - val_loss: 5.4290\n",
            "Epoch 15/50\n",
            "19/19 [==============================] - 0s 9ms/step - loss: 1.7148 - val_loss: 8.6098\n",
            "Epoch 16/50\n",
            "19/19 [==============================] - 0s 9ms/step - loss: 2.0842 - val_loss: 11.4850\n",
            "Epoch 17/50\n",
            "19/19 [==============================] - 0s 8ms/step - loss: 3.5378 - val_loss: 5.9990\n",
            "Epoch 18/50\n",
            "19/19 [==============================] - 2s 117ms/step - loss: 2.1938 - val_loss: 5.3743\n",
            "Epoch 19/50\n",
            "19/19 [==============================] - 3s 153ms/step - loss: 1.6611 - val_loss: 4.9056\n",
            "Epoch 20/50\n",
            "19/19 [==============================] - 3s 143ms/step - loss: 1.5967 - val_loss: 4.9002\n",
            "Epoch 21/50\n",
            "19/19 [==============================] - 0s 9ms/step - loss: 1.6176 - val_loss: 6.7383\n",
            "Epoch 22/50\n",
            "19/19 [==============================] - 2s 117ms/step - loss: 2.1152 - val_loss: 4.4914\n",
            "Epoch 23/50\n",
            "19/19 [==============================] - 0s 9ms/step - loss: 1.5748 - val_loss: 5.4732\n",
            "Epoch 24/50\n",
            "19/19 [==============================] - 0s 9ms/step - loss: 1.7181 - val_loss: 6.7327\n",
            "Epoch 25/50\n",
            "19/19 [==============================] - 0s 8ms/step - loss: 1.7303 - val_loss: 4.6246\n",
            "Epoch 26/50\n",
            "19/19 [==============================] - 0s 10ms/step - loss: 1.5140 - val_loss: 8.0211\n",
            "Epoch 27/50\n",
            "19/19 [==============================] - 0s 8ms/step - loss: 1.7264 - val_loss: 6.7723\n",
            "Epoch 28/50\n",
            "19/19 [==============================] - 0s 9ms/step - loss: 1.8893 - val_loss: 6.5569\n",
            "Epoch 29/50\n",
            "19/19 [==============================] - 2s 112ms/step - loss: 1.7769 - val_loss: 4.2557\n",
            "Epoch 30/50\n",
            "19/19 [==============================] - 0s 9ms/step - loss: 1.4042 - val_loss: 5.4524\n",
            "Epoch 31/50\n",
            "19/19 [==============================] - 3s 161ms/step - loss: 1.5095 - val_loss: 4.0998\n",
            "Epoch 32/50\n",
            "19/19 [==============================] - 0s 9ms/step - loss: 1.6596 - val_loss: 4.1699\n",
            "Epoch 33/50\n",
            "19/19 [==============================] - 0s 9ms/step - loss: 1.6569 - val_loss: 4.1664\n",
            "Epoch 34/50\n",
            "19/19 [==============================] - 0s 10ms/step - loss: 1.4364 - val_loss: 5.9854\n",
            "Epoch 35/50\n",
            "19/19 [==============================] - 0s 14ms/step - loss: 1.5698 - val_loss: 6.5143\n",
            "Epoch 36/50\n",
            "19/19 [==============================] - 3s 167ms/step - loss: 1.5145 - val_loss: 4.0490\n",
            "Epoch 37/50\n",
            "19/19 [==============================] - 0s 9ms/step - loss: 1.3184 - val_loss: 4.1315\n",
            "Epoch 38/50\n",
            "19/19 [==============================] - 0s 8ms/step - loss: 1.3203 - val_loss: 4.9855\n",
            "Epoch 39/50\n",
            "19/19 [==============================] - 0s 8ms/step - loss: 1.3891 - val_loss: 4.7903\n",
            "Epoch 40/50\n",
            "19/19 [==============================] - 0s 10ms/step - loss: 1.5900 - val_loss: 4.1701\n",
            "Epoch 41/50\n",
            "19/19 [==============================] - 0s 9ms/step - loss: 1.3141 - val_loss: 4.1378\n",
            "Epoch 42/50\n",
            "19/19 [==============================] - 0s 10ms/step - loss: 1.5448 - val_loss: 12.0049\n",
            "Epoch 43/50\n",
            "19/19 [==============================] - 0s 9ms/step - loss: 2.4620 - val_loss: 7.5705\n",
            "Epoch 44/50\n",
            "19/19 [==============================] - 2s 118ms/step - loss: 2.3265 - val_loss: 4.0224\n",
            "Epoch 45/50\n",
            "19/19 [==============================] - 2s 117ms/step - loss: 1.5196 - val_loss: 4.0041\n",
            "Epoch 46/50\n",
            "19/19 [==============================] - 0s 9ms/step - loss: 1.2578 - val_loss: 4.6366\n",
            "Epoch 47/50\n",
            "19/19 [==============================] - 2s 119ms/step - loss: 1.4123 - val_loss: 3.8222\n",
            "Epoch 48/50\n",
            "19/19 [==============================] - 3s 171ms/step - loss: 1.4326 - val_loss: 3.8018\n",
            "Epoch 49/50\n",
            "19/19 [==============================] - 0s 13ms/step - loss: 1.6448 - val_loss: 3.8066\n",
            "Epoch 50/50\n",
            "19/19 [==============================] - 0s 15ms/step - loss: 1.2905 - val_loss: 4.0100\n"
          ]
        }
      ]
    },
    {
      "cell_type": "code",
      "source": [
        "# En iyi model 5 versiyonunu yükleyin ve test verileri üzerinde değerlendirin\n",
        "model_1 = tf.keras.models.load_model(\"model_experiments/model_1_LSTM\")\n",
        "model_1.evaluate(test_windows, test_labels)\n"
      ],
      "metadata": {
        "colab": {
          "base_uri": "https://localhost:8080/"
        },
        "id": "ZxcwsDR9MMv3",
        "outputId": "b8eceaed-0332-43fa-81f3-29ca94d3e6a7"
      },
      "execution_count": 177,
      "outputs": [
        {
          "output_type": "stream",
          "name": "stderr",
          "text": [
            "WARNING:tensorflow:Layer lstm_14 will not use cuDNN kernels since it doesn't meet the criteria. It will use a generic GPU kernel as fallback when running on GPU.\n"
          ]
        },
        {
          "output_type": "stream",
          "name": "stdout",
          "text": [
            "22/22 [==============================] - 0s 3ms/step - loss: 3.3774\n"
          ]
        },
        {
          "output_type": "execute_result",
          "data": {
            "text/plain": [
              "3.3774054050445557"
            ]
          },
          "metadata": {},
          "execution_count": 177
        }
      ]
    },
    {
      "cell_type": "code",
      "source": [
        "def mean_absolute_scaled_error(y_true, y_pred):\n",
        "  \"\"\"\n",
        "  MASE (Mevsimsellik Olmayan Veriler için) uygulaması.\n",
        "  \"\"\"\n",
        "  mae = tf.reduce_mean(tf.abs(y_true - y_pred))\n",
        "  # y_true ve y_pred arasındaki Ortalama Mutlak Hata (MAE) hesaplanır.\n",
        "\n",
        "  # Naive tahminin MAE'sini bulun (mevsimsellik yok)\n",
        "  mae_naive_no_season = tf.reduce_mean(tf.abs(y_true[1:] - y_true[:-1]))\n",
        "  # Mevsimsellik olmadan (bir gün kayma ile) naive tahminin MAE'si hesaplanır.\n",
        "\n",
        "  return mae / mae_naive_no_season\n",
        "  # MASE, naive tahminin MAE'sine bölünerek hesaplanır.\n"
      ],
      "metadata": {
        "id": "xzOUlDzwMM2J"
      },
      "execution_count": 224,
      "outputs": []
    },
    {
      "cell_type": "code",
      "source": [
        "# Model tahminlerini ve doğruluk değerlerini almak ve değerlendirme metriklerini döndürmek için bir işlev oluşturun\n",
        "def evaluate_preds(y_true, y_pred):\n",
        "  # Metriğin hesaplanması için float32 veri tipine dönüştürün\n",
        "  y_true = tf.cast(y_true, dtype=tf.float32)\n",
        "  y_pred = tf.cast(y_pred, dtype=tf.float32)\n",
        "\n",
        "  # Çeşitli değerlendirme metriklerini hesaplayın\n",
        "  mae = tf.keras.metrics.mean_absolute_error(y_true, y_pred)\n",
        "  mse = tf.keras.metrics.mean_squared_error(y_true, y_pred)\n",
        "  rmse = tf.sqrt(mse)\n",
        "  mape = tf.keras.metrics.mean_absolute_percentage_error(y_true, y_pred)\n",
        "  mase = mean_absolute_scaled_error(y_true, y_pred)\n",
        "\n",
        "  return {\"mae\": mae.numpy(),\n",
        "          \"mse\": mse.numpy(),\n",
        "          \"rmse\": rmse.numpy(),\n",
        "          \"mape\": mape.numpy(),\n",
        "          \"mase\": mase.numpy()}\n",
        "  # Hesaplanan değerlendirme metriklerini bir sözlük olarak döndürür.\n"
      ],
      "metadata": {
        "id": "qFxdTGyTL1uW"
      },
      "execution_count": 225,
      "outputs": []
    },
    {
      "cell_type": "code",
      "source": [
        "def make_preds(model, input_data):\n",
        "  \"\"\"\n",
        "  Modeli kullanarak input_data için tahminler yapar.\n",
        "  \"\"\"\n",
        "  forecast = model.predict(input_data)\n",
        "  # Modelin girdi verisi üzerinde tahminler yapmasını sağlar.\n",
        "  return tf.squeeze(forecast) # Tahminleri 1D dizi olarak döndürür.\n",
        "  # Tahminlerin tek boyutlu bir dizi olarak döndürülmesini sağlar.\n"
      ],
      "metadata": {
        "id": "Tiqh7qRFL15_"
      },
      "execution_count": 226,
      "outputs": []
    },
    {
      "cell_type": "code",
      "source": [
        "# LSTM modelimizle tahmin yapın\n",
        "model_1_preds = make_preds(model_1, test_windows)\n",
        "model_1_preds[:5]\n",
        "# make_preds fonksiyonunu kullanarak model_1 ve test_windows verileri ile tahminler yapar"
      ],
      "metadata": {
        "colab": {
          "base_uri": "https://localhost:8080/"
        },
        "id": "CNtZK-C-JxT2",
        "outputId": "cebcc6a7-5ddd-4ddf-b2b5-e88b8d6baf7f"
      },
      "execution_count": 227,
      "outputs": [
        {
          "output_type": "stream",
          "name": "stdout",
          "text": [
            "22/22 [==============================] - 0s 2ms/step\n"
          ]
        },
        {
          "output_type": "execute_result",
          "data": {
            "text/plain": [
              "<tf.Tensor: shape=(5,), dtype=float32, numpy=\n",
              "array([165.21928, 164.92227, 164.35593, 164.68562, 165.347  ],\n",
              "      dtype=float32)>"
            ]
          },
          "metadata": {},
          "execution_count": 227
        }
      ]
    },
    {
      "cell_type": "code",
      "source": [
        "model_1_results = evaluate_preds(y_true=tf.squeeze(test_labels),\n",
        "                                 y_pred=model_1_preds)\n",
        "model_1_results\n"
      ],
      "metadata": {
        "colab": {
          "base_uri": "https://localhost:8080/"
        },
        "collapsed": true,
        "id": "4RiTgnb5NZ5H",
        "outputId": "8a77aad9-acb0-4c72-85c6-f81a94c2d34e"
      },
      "execution_count": 228,
      "outputs": [
        {
          "output_type": "execute_result",
          "data": {
            "text/plain": [
              "{'mae': 4.0099626,\n",
              " 'mse': 29.044304,\n",
              " 'rmse': 5.3892765,\n",
              " 'mape': 3.1127763,\n",
              " 'mase': 1.7436674}"
            ]
          },
          "metadata": {},
          "execution_count": 228
        }
      ]
    },
    {
      "cell_type": "code",
      "source": [],
      "metadata": {
        "id": "PQ41pmp-Nakx"
      },
      "execution_count": 183,
      "outputs": []
    },
    {
      "cell_type": "code",
      "source": [],
      "metadata": {
        "id": "0uJocu1XNaqw"
      },
      "execution_count": 183,
      "outputs": []
    },
    {
      "cell_type": "code",
      "source": [],
      "metadata": {
        "id": "T_QwyxjeNazO"
      },
      "execution_count": 183,
      "outputs": []
    }
  ]
}